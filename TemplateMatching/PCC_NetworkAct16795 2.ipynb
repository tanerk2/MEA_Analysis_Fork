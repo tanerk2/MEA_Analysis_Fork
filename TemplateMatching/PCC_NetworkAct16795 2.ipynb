{
 "cells": [
  {
   "cell_type": "code",
   "execution_count": 1,
   "id": "9ad7ee45",
   "metadata": {},
   "outputs": [],
   "source": [
    "import scipy.io\n",
    "import matplotlib.pyplot as plt\n",
    "import numpy as np"
   ]
  },
  {
   "cell_type": "code",
   "execution_count": 313,
   "id": "1d575988",
   "metadata": {},
   "outputs": [
    {
     "name": "stdout",
     "output_type": "stream",
     "text": [
      "{'__header__': b'MATLAB 5.0 MAT-file, Platform: GLNXA64, Created on: Thu Sep 21 11:59:23 2023', '__version__': '1.0', '__globals__': [], 'firingRateNorm': array([[0.19073733],\n",
      "       [0.20758733],\n",
      "       [0.22365442],\n",
      "       ...,\n",
      "       [0.22084624],\n",
      "       [0.20602084],\n",
      "       [0.1901111 ]])}\n"
     ]
    }
   ],
   "source": [
    "## if loading mat file.\n",
    "mat=scipy.io.loadmat('/home/mmp/disktb/mmpatil/MEA_Analysis/TemplateMatching/TemplateMats/000129_21648_NetworkTemplates.mat')\n",
    "print(mat)"
   ]
  },
  {
   "cell_type": "code",
   "execution_count": 2,
   "id": "0426f701",
   "metadata": {},
   "outputs": [
    {
     "name": "stdout",
     "output_type": "stream",
     "text": [
      "List of .mat files:\n",
      "/home/mmp/disktb/mmpatil/MEA_Analysis/TemplateMatching/TemplateMats/000232_21644_NetworkTemplates.mat\n",
      "/home/mmp/disktb/mmpatil/MEA_Analysis/TemplateMatching/TemplateMats/000222_21609_NetworkTemplates.mat\n",
      "/home/mmp/disktb/mmpatil/MEA_Analysis/TemplateMatching/TemplateMats/000161_21644_NetworkTemplates.mat\n",
      "/home/mmp/disktb/mmpatil/MEA_Analysis/TemplateMatching/TemplateMats/000228_21661_NetworkTemplates.mat\n",
      "/home/mmp/disktb/mmpatil/MEA_Analysis/TemplateMatching/TemplateMats/000136_21625_NetworkTemplates.mat\n",
      "/home/mmp/disktb/mmpatil/MEA_Analysis/TemplateMatching/TemplateMats/000154_21664_NetworkTemplates.mat\n",
      "/home/mmp/disktb/mmpatil/MEA_Analysis/TemplateMatching/TemplateMats/000103_21613_NetworkTemplates.mat\n",
      "/home/mmp/disktb/mmpatil/MEA_Analysis/TemplateMatching/TemplateMats/000140_21612_NetworkTemplates.mat\n",
      "/home/mmp/disktb/mmpatil/MEA_Analysis/TemplateMatching/TemplateMats/000099_21609_NetworkTemplates.mat\n",
      "/home/mmp/disktb/mmpatil/MEA_Analysis/TemplateMatching/TemplateMats/000146_21648_NetworkTemplates.mat\n",
      "/home/mmp/disktb/mmpatil/MEA_Analysis/TemplateMatching/TemplateMats/000224_21664_NetworkTemplates.mat\n",
      "/home/mmp/disktb/mmpatil/MEA_Analysis/TemplateMatching/TemplateMats/000150_21670_NetworkTemplates.mat\n",
      "/home/mmp/disktb/mmpatil/MEA_Analysis/TemplateMatching/TemplateMats/000148_21661_NetworkTemplates.mat\n",
      "/home/mmp/disktb/mmpatil/MEA_Analysis/TemplateMatching/TemplateMats/000089_21625_NetworkTemplates.mat\n",
      "/home/mmp/disktb/mmpatil/MEA_Analysis/TemplateMatching/TemplateMats/000091_21648_NetworkTemplates.mat\n",
      "/home/mmp/disktb/mmpatil/MEA_Analysis/TemplateMatching/TemplateMats/000125_21670_NetworkTemplates.mat\n",
      "/home/mmp/disktb/mmpatil/MEA_Analysis/TemplateMatching/TemplateMats/000087_21670_NetworkTemplates.mat\n",
      "/home/mmp/disktb/mmpatil/MEA_Analysis/TemplateMatching/TemplateMats/000156_21625_NetworkTemplates.mat\n",
      "/home/mmp/disktb/mmpatil/MEA_Analysis/TemplateMatching/TemplateMats/000123_21609_NetworkTemplates.mat\n",
      "/home/mmp/disktb/mmpatil/MEA_Analysis/TemplateMatching/TemplateMats/000105_21644_NetworkTemplates.mat\n",
      "/home/mmp/disktb/mmpatil/MEA_Analysis/TemplateMatching/TemplateMats/000109_21613_NetworkTemplates.mat\n",
      "/home/mmp/disktb/mmpatil/MEA_Analysis/TemplateMatching/TemplateMats/000111_21644_NetworkTemplates.mat\n",
      "/home/mmp/disktb/mmpatil/MEA_Analysis/TemplateMatching/TemplateMats/000215_21625_NetworkTemplates.mat\n",
      "/home/mmp/disktb/mmpatil/MEA_Analysis/TemplateMatching/TemplateMats/000093_21661_NetworkTemplates.mat\n",
      "/home/mmp/disktb/mmpatil/MEA_Analysis/TemplateMatching/TemplateMats/000101_21664_NetworkTemplates.mat\n",
      "/home/mmp/disktb/mmpatil/MEA_Analysis/TemplateMatching/TemplateMats/000117_21661_NetworkTemplates.mat\n",
      "/home/mmp/disktb/mmpatil/MEA_Analysis/TemplateMatching/TemplateMats/000226_21648_NetworkTemplates.mat\n",
      "/home/mmp/disktb/mmpatil/MEA_Analysis/TemplateMatching/TemplateMats/000121_21664_NetworkTemplates.mat\n",
      "/home/mmp/disktb/mmpatil/MEA_Analysis/TemplateMatching/TemplateMats/000119_21648_NetworkTemplates.mat\n",
      "/home/mmp/disktb/mmpatil/MEA_Analysis/TemplateMatching/TemplateMats/000129_21648_NetworkTemplates.mat\n",
      "/home/mmp/disktb/mmpatil/MEA_Analysis/TemplateMatching/TemplateMats/000159_21613_NetworkTemplates.mat\n",
      "/home/mmp/disktb/mmpatil/MEA_Analysis/TemplateMatching/TemplateMats/000218_21670_NetworkTemplates.mat\n",
      "/home/mmp/disktb/mmpatil/MEA_Analysis/TemplateMatching/TemplateMats/000115_21625_NetworkTemplates.mat\n",
      "/home/mmp/disktb/mmpatil/MEA_Analysis/TemplateMatching/TemplateMats/000230_21613_NetworkTemplates.mat\n",
      "/home/mmp/disktb/mmpatil/MEA_Analysis/TemplateMatching/TemplateMats/000113_21670_NetworkTemplates.mat\n",
      "/home/mmp/disktb/mmpatil/MEA_Analysis/TemplateMatching/TemplateMats/000163_21609_NetworkTemplates.mat\n",
      "/home/mmp/disktb/mmpatil/MEA_Analysis/TemplateMatching/TemplateMats/000138_21661_NetworkTemplates.mat\n"
     ]
    }
   ],
   "source": [
    "import os\n",
    "import glob\n",
    "\n",
    "# Specify the directory path where you want to search for .mat files\n",
    "directory_path = '/home/mmp/disktb/mmpatil/MEA_Analysis/TemplateMatching/TemplateMats/'\n",
    "\n",
    "# Use glob to find all .mat files in the directory\n",
    "mat_files = glob.glob(os.path.join(directory_path, '*.mat'))\n",
    "\n",
    "# mat_files will now contain a list of file paths to all the .mat files in the directory\n",
    "print(\"List of .mat files:\")\n",
    "for mat_file in mat_files:\n",
    "    print(mat_file)\n"
   ]
  },
  {
   "cell_type": "code",
   "execution_count": 155,
   "id": "86c0e525",
   "metadata": {},
   "outputs": [
    {
     "name": "stdout",
     "output_type": "stream",
     "text": [
      "File name without extension: 000138_21661_NetworkTemplates\n"
     ]
    }
   ],
   "source": [
    "import os\n",
    "\n",
    "file_path = '/home/mmp/disktb/mmpatil/MEA_Analysis/TemplateMatching/TemplateMats/000138_21661_NetworkTemplates.mat'\n",
    "\n",
    "# Get the base name of the file (including extension)\n",
    "file_name_with_extension = os.path.basename(file_path)\n",
    "\n",
    "# Split the file name and extension\n",
    "file_name, file_extension = os.path.splitext(file_name_with_extension)\n",
    "\n",
    "# Now, file_name contains the name of the file without the extension\n",
    "print(\"File name without extension:\", file_name)"
   ]
  },
  {
   "cell_type": "code",
   "execution_count": 158,
   "id": "02f704ce",
   "metadata": {},
   "outputs": [
    {
     "name": "stdout",
     "output_type": "stream",
     "text": [
      "[]\n"
     ]
    },
    {
     "ename": "ValueError",
     "evalue": "need at least one array to concatenate",
     "output_type": "error",
     "traceback": [
      "\u001b[0;31m---------------------------------------------------------------------------\u001b[0m",
      "\u001b[0;31mValueError\u001b[0m                                Traceback (most recent call last)",
      "\u001b[1;32m/home/mmp/disktb/mmpatil/MEA_Analysis/TemplateMatching/PCC_NetworkAct16795.ipynb Cell 5\u001b[0m line \u001b[0;36m8\n\u001b[1;32m     <a href='vscode-notebook-cell:/home/mmp/disktb/mmpatil/MEA_Analysis/TemplateMatching/PCC_NetworkAct16795.ipynb#X43sZmlsZQ%3D%3D?line=75'>76</a>\u001b[0m     list_of_burst\u001b[39m.\u001b[39mappend(individual_burst)\n\u001b[1;32m     <a href='vscode-notebook-cell:/home/mmp/disktb/mmpatil/MEA_Analysis/TemplateMatching/PCC_NetworkAct16795.ipynb#X43sZmlsZQ%3D%3D?line=77'>78</a>\u001b[0m \u001b[39m# #the values were represented as element in Numpy array, which make it impossible to perform PCC. Hence, the following codes extract the values out\u001b[39;00m\n\u001b[1;32m     <a href='vscode-notebook-cell:/home/mmp/disktb/mmpatil/MEA_Analysis/TemplateMatching/PCC_NetworkAct16795.ipynb#X43sZmlsZQ%3D%3D?line=78'>79</a>\u001b[0m \u001b[39m# for i in range(0, len(list_of_burst)):\u001b[39;00m\n\u001b[1;32m     <a href='vscode-notebook-cell:/home/mmp/disktb/mmpatil/MEA_Analysis/TemplateMatching/PCC_NetworkAct16795.ipynb#X43sZmlsZQ%3D%3D?line=79'>80</a>\u001b[0m \u001b[39m#     for x in range(0, len(list_of_burst[0])):\u001b[39;00m\n\u001b[1;32m     <a href='vscode-notebook-cell:/home/mmp/disktb/mmpatil/MEA_Analysis/TemplateMatching/PCC_NetworkAct16795.ipynb#X43sZmlsZQ%3D%3D?line=80'>81</a>\u001b[0m \u001b[39m#         list_of_burst[i][x] = list_of_burst[i][x][0]\u001b[39;00m\n\u001b[0;32m---> <a href='vscode-notebook-cell:/home/mmp/disktb/mmpatil/MEA_Analysis/TemplateMatching/PCC_NetworkAct16795.ipynb#X43sZmlsZQ%3D%3D?line=81'>82</a>\u001b[0m stacked_bursts \u001b[39m=\u001b[39m np\u001b[39m.\u001b[39;49mvstack(list_of_burst)\n\u001b[1;32m     <a href='vscode-notebook-cell:/home/mmp/disktb/mmpatil/MEA_Analysis/TemplateMatching/PCC_NetworkAct16795.ipynb#X43sZmlsZQ%3D%3D?line=86'>87</a>\u001b[0m features \u001b[39m=\u001b[39m calculate_burst_features(stacked_bursts, threshold\u001b[39m=\u001b[39m\u001b[39m0.5\u001b[39m)\n\u001b[1;32m     <a href='vscode-notebook-cell:/home/mmp/disktb/mmpatil/MEA_Analysis/TemplateMatching/PCC_NetworkAct16795.ipynb#X43sZmlsZQ%3D%3D?line=88'>89</a>\u001b[0m \u001b[39m# Assuming features is a NumPy array where each row represents a burst with two columns (half-width, peak)\u001b[39;00m\n\u001b[1;32m     <a href='vscode-notebook-cell:/home/mmp/disktb/mmpatil/MEA_Analysis/TemplateMatching/PCC_NetworkAct16795.ipynb#X43sZmlsZQ%3D%3D?line=89'>90</a>\u001b[0m \n\u001b[1;32m     <a href='vscode-notebook-cell:/home/mmp/disktb/mmpatil/MEA_Analysis/TemplateMatching/PCC_NetworkAct16795.ipynb#X43sZmlsZQ%3D%3D?line=90'>91</a>\u001b[0m \u001b[39m# Initialize an empty list to store the WCSS values for different values of K\u001b[39;00m\n",
      "File \u001b[0;32m<__array_function__ internals>:200\u001b[0m, in \u001b[0;36mvstack\u001b[0;34m(*args, **kwargs)\u001b[0m\n",
      "File \u001b[0;32m~/.local/lib/python3.10/site-packages/numpy/core/shape_base.py:296\u001b[0m, in \u001b[0;36mvstack\u001b[0;34m(tup, dtype, casting)\u001b[0m\n\u001b[1;32m    294\u001b[0m \u001b[39mif\u001b[39;00m \u001b[39mnot\u001b[39;00m \u001b[39misinstance\u001b[39m(arrs, \u001b[39mlist\u001b[39m):\n\u001b[1;32m    295\u001b[0m     arrs \u001b[39m=\u001b[39m [arrs]\n\u001b[0;32m--> 296\u001b[0m \u001b[39mreturn\u001b[39;00m _nx\u001b[39m.\u001b[39;49mconcatenate(arrs, \u001b[39m0\u001b[39;49m, dtype\u001b[39m=\u001b[39;49mdtype, casting\u001b[39m=\u001b[39;49mcasting)\n",
      "File \u001b[0;32m<__array_function__ internals>:200\u001b[0m, in \u001b[0;36mconcatenate\u001b[0;34m(*args, **kwargs)\u001b[0m\n",
      "\u001b[0;31mValueError\u001b[0m: need at least one array to concatenate"
     ]
    }
   ],
   "source": [
    "from sklearn.cluster import KMeans\n",
    "import pickle\n",
    "def calculate_burst_features(stacked_bursts, threshold=0.5):\n",
    "\n",
    "    feature_array = np.empty((len(stacked_bursts), 1)) \n",
    "    \n",
    "    for i,burst in enumerate(stacked_bursts):\n",
    "    \n",
    "        # Find the peak amplitude and its index\n",
    "        peak_amplitude = np.max(burst)\n",
    "        peak_index = np.argmax(burst)\n",
    "        # Calculate the half-maximum threshold\n",
    "        half_threshold = threshold * peak_amplitude\n",
    "\n",
    "        # Search for the left boundary where the amplitude first crosses half-maximum\n",
    "        left_boundary = np.where(burst[:peak_index] <= half_threshold)[0]\n",
    "        if len(left_boundary) == 0:\n",
    "            left_boundary_index = 0\n",
    "        else:\n",
    "            left_boundary_index = left_boundary[-1] + 1\n",
    "\n",
    "        # Search for the right boundary where the amplitude crosses half-maximum again\n",
    "        right_boundary = np.where(burst[peak_index:] <= half_threshold)[0]\n",
    "        if len(right_boundary) == 0:\n",
    "            right_boundary_index = len(burst) - 1\n",
    "        else:\n",
    "            right_boundary_index = peak_index + right_boundary[0]\n",
    "\n",
    "        # Calculate the half-width\n",
    "        half_width = right_boundary_index - left_boundary_index + 1\n",
    "\n",
    "        feature_array[i] = [peak_amplitude]\n",
    "    \n",
    "\n",
    "    return feature_array\n",
    "\n",
    "\n",
    "\n",
    "\n",
    "for mat_file in mat_files:\n",
    "\n",
    "    mat=scipy.io.loadmat(mat_file)\n",
    "    data = mat['firingRateNorm'] \n",
    "    \n",
    "    burst_start = False\n",
    "    peak = 0\n",
    "    peak_list=[]\n",
    "    burst_start = False\n",
    "    peak_index_list=[]\n",
    "    peak_index = 0\n",
    "    threshold = 3.5\n",
    "    total = len(data)\n",
    "\n",
    "\n",
    "    for x in range(1, total-2):\n",
    "        if data[x] >= threshold and data[x] > data[x-1] and data[x] > data[x+1] and data[x] > peak:\n",
    "            burst_start = True\n",
    "            peak = data[x]\n",
    "            peak_index = x\n",
    "        if data[x] < 1 and burst_start == True:\n",
    "            peak_list.append(peak)\n",
    "            peak_index_list.append(peak_index)\n",
    "            peak=0\n",
    "            peak_index = 0\n",
    "            burst_start = False  \n",
    "        peak_index_list = [value for value in peak_index_list if value < 0 or value > 50]\n",
    "        print(peak_index_list)\n",
    "        #generating a list containing all the bursts/the values representing individual burst in the data starting from the index of the highest peaks.\n",
    "        list_of_burst = []\n",
    "        left_bound = 30\n",
    "        right_bound =30\n",
    "        for index in peak_index_list:\n",
    "            individual_burst=np.array(data[index-left_bound:index+right_bound]).flatten()\n",
    "\n",
    "            #individual_burst.sort()\n",
    "            list_of_burst.append(individual_burst)\n",
    "\n",
    "        # #the values were represented as element in Numpy array, which make it impossible to perform PCC. Hence, the following codes extract the values out\n",
    "        # for i in range(0, len(list_of_burst)):\n",
    "        #     for x in range(0, len(list_of_burst[0])):\n",
    "        #         list_of_burst[i][x] = list_of_burst[i][x][0]\n",
    "        stacked_bursts = np.vstack(list_of_burst)\n",
    "\n",
    "\n",
    "        \n",
    "\n",
    "        features = calculate_burst_features(stacked_bursts, threshold=0.5)\n",
    "\n",
    "        # Assuming features is a NumPy array where each row represents a burst with two columns (half-width, peak)\n",
    "\n",
    "        # Initialize an empty list to store the WCSS values for different values of K\n",
    "        wcss = []\n",
    "\n",
    "        # Define a range of values for K (number of clusters)\n",
    "        k_values = range(1, 11)  # You can adjust the range as needed\n",
    "\n",
    "        # Calculate WCSS for each value of K\n",
    "        for k in k_values:\n",
    "            kmeans = KMeans(n_clusters=k)\n",
    "            kmeans.fit(features[:,0].reshape(-1,1))\n",
    "            wcss.append(kmeans.inertia_)\n",
    "        # Calculate the change in slope between consecutive WCSS values\n",
    "        slope_changes = [abs(wcss[i] - wcss[i - 1] )for i in range(1, len(wcss))]\n",
    "\n",
    "        # Find the index with the maximum slope change\n",
    "        optimal_k_index = slope_changes.index(max(slope_changes)) + 1  # Adding 1 because of zero-based indexing\n",
    "\n",
    "        # Optimal K is the K value at the inflection point with the maximum slope change\n",
    "        optimal_k = k_values[optimal_k_index]\n",
    "\n",
    "        kmeans = KMeans(n_clusters=optimal_k)\n",
    "        cluster_labels = kmeans.fit_predict(features)\n",
    "        # print(cluster_labels)\n",
    "        # Now, cluster_labels contains the cluster assignments for each burst\n",
    "\n",
    "        # Create a dictionary to store features and their indices for each cluster\n",
    "        cluster_data = {cluster_id: {'features': [], 'indices': []} for cluster_id in range(optimal_k)}\n",
    "\n",
    "        # Assign features and their indices to their respective clusters\n",
    "        for i, label in enumerate(cluster_labels):\n",
    "            cluster_data[label]['features'].append(features[i])\n",
    "            cluster_data[label]['indices'].append(i)\n",
    "\n",
    "        for label in cluster_data.keys():\n",
    "            cluster_data[label]['template'] = np.mean(stacked_bursts[cluster_data[label]['indices'],:])\n",
    "        # Access features and indices for a specific cluster (e.g., cluster 0)\n",
    "\n",
    "        file_name_with_extension = os.path.basename(mat_file)\n",
    "\n",
    "        # Split the file name and extension\n",
    "        file_name, file_extension = os.path.splitext(file_name_with_extension)\n",
    "        pickle.dump(cluster_data,f'./PickelFile/{file_name}.pkl')"
   ]
  },
  {
   "cell_type": "code",
   "execution_count": 322,
   "id": "277d64c3",
   "metadata": {},
   "outputs": [
    {
     "data": {
      "text/plain": [
       "14996"
      ]
     },
     "execution_count": 322,
     "metadata": {},
     "output_type": "execute_result"
    }
   ],
   "source": [
    "len(data)"
   ]
  },
  {
   "cell_type": "code",
   "execution_count": 318,
   "id": "8e54a149",
   "metadata": {
    "scrolled": true
   },
   "outputs": [
    {
     "data": {
      "image/png": "[encoded data removed]",
      "text/plain": [
       "<Figure size 1000x500 with 1 Axes>"
      ]
     },
     "metadata": {},
     "output_type": "display_data"
    },
    {
     "name": "stdout",
     "output_type": "stream",
     "text": [
      "dict_keys(['__header__', '__version__', '__globals__', 'firingRateNorm'])\n",
      "14996\n"
     ]
    }
   ],
   "source": [
    "data = mat['firingRateNorm']  # visualizing the data\n",
    "plt.figure(figsize=(10, 5))\n",
    "plt.plot(data[4600:9600])\n",
    "plt.xlabel('Time (5e-2 ms)')\n",
    "plt.ylabel('kHz')\n",
    "plt.title('Line Plot of Data')\n",
    "plt.ylim([0 ,10])\n",
    "plt.savefig('/home/mmp/Documents/Images_25sep/templatematching_signal_control.pdf',format='pdf')\n",
    "plt.show()\n",
    "print(mat.keys())\n",
    "total = len(data)\n",
    "print(total)"
   ]
  },
  {
   "cell_type": "code",
   "execution_count": 319,
   "id": "4bb6af34",
   "metadata": {},
   "outputs": [
    {
     "name": "stdout",
     "output_type": "stream",
     "text": [
      "[285, 766, 1133, 1879, 2374, 2878, 3409, 3911, 4382, 4952, 5450, 5981, 6499, 7035, 7502, 8071, 8486, 8945, 9446, 10061, 10536, 10969, 11438, 12096, 12560, 13067, 13749, 14285, 14758]\n"
     ]
    }
   ],
   "source": [
    "#find the index of the highest point in each burst\n",
    "burst_start = False\n",
    "peak = 0\n",
    "peak_list=[]\n",
    "burst_start = False\n",
    "peak_index_list=[]\n",
    "peak_index = 0\n",
    "threshold = 3\n",
    "\n",
    "\n",
    "for x in range(1, total-2):\n",
    "    if data[x] >= threshold and data[x] > data[x-1] and data[x] > data[x+1] and data[x] > peak:\n",
    "        burst_start = True\n",
    "        peak = data[x]\n",
    "        peak_index = x\n",
    "    if data[x] < 1 and burst_start == True:\n",
    "        peak_list.append(peak)\n",
    "        peak_index_list.append(peak_index)\n",
    "        peak=0\n",
    "        peak_index = 0\n",
    "        burst_start = False  \n",
    "peak_index_list = [value for value in peak_index_list if value < 0 or value > 50]\n",
    "print(peak_index_list)\n",
    "\n",
    "#skipping a little in the beginingn to get correct shape of the first peak\n"
   ]
  },
  {
   "cell_type": "code",
   "execution_count": 320,
   "id": "45cfe281",
   "metadata": {},
   "outputs": [
    {
     "name": "stdout",
     "output_type": "stream",
     "text": [
      "(29, 150)\n"
     ]
    }
   ],
   "source": [
    "#generating a list containing all the bursts/the values representing individual burst in the data starting from the index of the highest peaks.\n",
    "list_of_burst = []\n",
    "left_bound = 75\n",
    "right_bound =75\n",
    "for index in peak_index_list:\n",
    "    individual_burst=np.array(data[index-left_bound:index+right_bound]).flatten()\n",
    "\n",
    "    #individual_burst.sort()\n",
    "    list_of_burst.append(individual_burst)\n",
    "\n",
    "# #the values were represented as element in Numpy array, which make it impossible to perform PCC. Hence, the following codes extract the values out\n",
    "# for i in range(0, len(list_of_burst)):\n",
    "#     for x in range(0, len(list_of_burst[0])):\n",
    "#         list_of_burst[i][x] = list_of_burst[i][x][0]\n",
    "stacked_bursts = np.vstack(list_of_burst)\n",
    "print(stacked_bursts.shape)"
   ]
  },
  {
   "cell_type": "code",
   "execution_count": 321,
   "id": "9710d54b",
   "metadata": {},
   "outputs": [
    {
     "data": {
      "image/png": "[encoded data removed]",
      "text/plain": [
       "<Figure size 200x1000 with 1 Axes>"
      ]
     },
     "metadata": {},
     "output_type": "display_data"
    }
   ],
   "source": [
    "import matplotlib.pyplot as plt\n",
    "\n",
    "# Assuming you have imported necessary libraries, and you have 'stacked_bursts' as a 2D NumPy array\n",
    "\n",
    "# Plot all rows (bursts) on top of each other\n",
    "plt.figure(figsize=(2,10))  # Adjust the figure size as needed\n",
    "plt.clf()\n",
    "for row in stacked_bursts:\n",
    "    plt.plot(row,c='lightblue')\n",
    "template = np.mean(stacked_bursts,axis=0)\n",
    "plt.plot(template,c='blue')\n",
    "plt.ylim([0,10])\n",
    "plt.xlabel('Time (5e-2 ms)')\n",
    "plt.ylabel('Amplitude (microV)')\n",
    "plt.title('Stacked Bursts')\n",
    "plt.savefig('/home/mmp/Documents/Images_25sep/templatematching_aggregate_control.pdf',format='pdf')\n",
    "plt.show()"
   ]
  },
  {
   "cell_type": "code",
   "execution_count": 126,
   "id": "314ac1a1",
   "metadata": {},
   "outputs": [
    {
     "data": {
      "image/png": "[encoded data removed]",
      "text/plain": [
       "<Figure size 200x1000 with 1 Axes>"
      ]
     },
     "metadata": {},
     "output_type": "display_data"
    },
    {
     "data": {
      "text/plain": [
       "<Figure size 640x480 with 0 Axes>"
      ]
     },
     "metadata": {},
     "output_type": "display_data"
    }
   ],
   "source": [
    "template = np.mean(stacked_bursts,axis=0)\n",
    "plt.figure(figsize=(2, 10)) \n",
    "plt.plot(template)\n",
    "\n",
    "plt.xlabel('Time')\n",
    "plt.ylabel('Amplitude')\n",
    "plt.title('Stacked Bursts')\n",
    "\n",
    "plt.show()\n",
    "plt.clf()"
   ]
  },
  {
   "cell_type": "code",
   "execution_count": 197,
   "id": "ab434b14",
   "metadata": {},
   "outputs": [
    {
     "name": "stdout",
     "output_type": "stream",
     "text": [
      "000232_21644_NetworkTemplates\n",
      "000222_21609_NetworkTemplates\n",
      "000161_21644_NetworkTemplates\n",
      "000228_21661_NetworkTemplates\n",
      "000136_21625_NetworkTemplates\n",
      "000154_21664_NetworkTemplates\n",
      "000103_21613_NetworkTemplates\n",
      "000140_21612_NetworkTemplates\n",
      "000099_21609_NetworkTemplates\n",
      "000146_21648_NetworkTemplates\n",
      "000224_21664_NetworkTemplates\n",
      "000150_21670_NetworkTemplates\n",
      "000148_21661_NetworkTemplates\n",
      "000089_21625_NetworkTemplates\n",
      "000091_21648_NetworkTemplates\n",
      "000125_21670_NetworkTemplates\n",
      "000087_21670_NetworkTemplates\n",
      "000156_21625_NetworkTemplates\n",
      "000123_21609_NetworkTemplates\n",
      "000105_21644_NetworkTemplates\n",
      "000109_21613_NetworkTemplates\n",
      "000111_21644_NetworkTemplates\n",
      "000215_21625_NetworkTemplates\n",
      "000093_21661_NetworkTemplates\n",
      "000101_21664_NetworkTemplates\n",
      "000117_21661_NetworkTemplates\n",
      "000226_21648_NetworkTemplates\n",
      "000121_21664_NetworkTemplates\n",
      "000119_21648_NetworkTemplates\n",
      "000129_21648_NetworkTemplates\n",
      "000159_21613_NetworkTemplates\n",
      "000218_21670_NetworkTemplates\n",
      "000115_21625_NetworkTemplates\n",
      "000230_21613_NetworkTemplates\n",
      "000113_21670_NetworkTemplates\n",
      "000163_21609_NetworkTemplates\n",
      "000138_21661_NetworkTemplates\n"
     ]
    }
   ],
   "source": [
    "#whole routine for the biggest template.\n",
    "import pandas as pd\n",
    "import pickle\n",
    "dataframe = pd.DataFrame(columns=[\"Filename\",\"Stacked Bursts\",\"Template\"])\n",
    "error_l=[]\n",
    "for mat_file in mat_files:\n",
    "\n",
    "    mat=scipy.io.loadmat(mat_file)\n",
    "    data = mat['firingRateNorm'] \n",
    "    total = len(data)\n",
    "    file_name_with_extension = os.path.basename(mat_file)\n",
    "\n",
    "    # Split the file name and extension\n",
    "    file_name, file_extension = os.path.splitext(file_name_with_extension)\n",
    "    print(file_name)\n",
    "   #find the index of the highest point in each burst\n",
    "    burst_start = False\n",
    "    peak = 0\n",
    "    peak_list=[]\n",
    "    burst_start = False\n",
    "    peak_index_list=[]\n",
    "    peak_index = 0\n",
    "    threshold = 3.5\n",
    "    \n",
    "\n",
    "    for x in range(1, total-2):\n",
    "        if data[x] >= threshold and data[x] > data[x-1] and data[x] > data[x+1] and data[x] > peak:\n",
    "            burst_start = True\n",
    "            peak = data[x]\n",
    "            peak_index = x\n",
    "        if data[x] < 1 and burst_start == True:\n",
    "            peak_list.append(peak)\n",
    "            peak_index_list.append(peak_index)\n",
    "            peak=0\n",
    "            peak_index = 0\n",
    "            burst_start = False  \n",
    "    peak_index_list = [value for value in peak_index_list if value < 0 or value > 50]\n",
    "    if not peak_index_list:\n",
    "\n",
    "        error_l.append(file_name)\n",
    "        continue\n",
    "        \n",
    "    #generating a list containing all the bursts/the values representing individual burst in the data starting from the index of the highest peaks.\n",
    "    list_of_burst = []\n",
    "    left_bound = 50\n",
    "    right_bound =50\n",
    "    for index in peak_index_list:\n",
    "        individual_burst=np.array(data[index-left_bound:index+right_bound]).flatten()\n",
    "\n",
    "        #individual_burst.sort()\n",
    "        list_of_burst.append(individual_burst)\n",
    "\n",
    "        # #the values were represented as element in Numpy array, which make it impossible to perform PCC. Hence, the following codes extract the values out\n",
    "        # for i in range(0, len(list_of_burst)):\n",
    "        #     for x in range(0, len(list_of_burst[0])):\n",
    "        #         list_of_burst[i][x] = list_of_burst[i][x][0]\n",
    "    stacked_bursts = np.vstack(list_of_burst)\n",
    "\n",
    "    template = np.mean(stacked_bursts,axis=0)\n",
    "    with open(f\"/home/mmp/disktb/mmpatil/MEA_Analysis/TemplateMatching/StackedBurstPickelFile/{file_name}.pkl\",'wb') as f1:\n",
    "        pickle.dump(stacked_bursts,f1)\n",
    "    with open(f\"/home/mmp/disktb/mmpatil/MEA_Analysis/TemplateMatching/TemplatesPickelFile/{file_name}.pkl\",'wb') as f2:\n",
    "        pickle.dump(template,f2)\n",
    "    new_data = {\"Filename\": file_name, \"Stacked Bursts\": stacked_bursts, \"Template\": template}\n",
    "    dataframe = pd.concat([dataframe, pd.DataFrame([new_data])], ignore_index=True)\n",
    "\n",
    "\n",
    "\n",
    "# Save the DataFrame to Excel\n",
    "dataframe.to_excel(\"./template_outputs3.xlsx\", index=False, engine=\"openpyxl\")\n"
   ]
  },
  {
   "cell_type": "code",
   "execution_count": 37,
   "id": "4f3f1030",
   "metadata": {},
   "outputs": [
    {
     "name": "stdout",
     "output_type": "stream",
     "text": [
      "['000232_21644_NetworkTemplates', '000140_21612_NetworkTemplates', '000089_21625_NetworkTemplates']\n"
     ]
    }
   ],
   "source": [
    "print(error_l)"
   ]
  },
  {
   "cell_type": "code",
   "execution_count": 99,
   "id": "32b1a28f",
   "metadata": {},
   "outputs": [
    {
     "name": "stdout",
     "output_type": "stream",
     "text": [
      "['000232_21644_NetworkTemplates', '000140_21612_NetworkTemplates', '000089_21625_NetworkTemplates']\n"
     ]
    }
   ],
   "source": [
    "print(error_l)"
   ]
  },
  {
   "cell_type": "code",
   "execution_count": 100,
   "id": "c34fab17",
   "metadata": {},
   "outputs": [],
   "source": [
    "df1 = pd.read_excel(\"/mnt/disk15tb/mmpatil/MEA_Analysis/TemplateMatching/template_outputs.xlsx\")"
   ]
  },
  {
   "cell_type": "code",
   "execution_count": 102,
   "id": "af74f7b9",
   "metadata": {},
   "outputs": [],
   "source": [
    "# Define a function to assign values to the \"line\" column based on the \"Chip_ID\" values\n",
    "def assign_line(chip_id):\n",
    "    if chip_id in [21670, 21648, 21609, 21613]:\n",
    "        return 'syngap control'\n",
    "    elif chip_id in [21625, 21661, 21664, 21644]:\n",
    "        return 'Syngap'\n",
    "    else:\n",
    "        return None\n",
    "\n",
    "# Apply the function to create the \"line\" column\n",
    "df1['line'] = df1['chip'].apply(assign_line)"
   ]
  },
  {
   "cell_type": "code",
   "execution_count": 103,
   "id": "b4175c3e",
   "metadata": {},
   "outputs": [
    {
     "data": {
      "text/html": [
       "<div>\n",
       "<style scoped>\n",
       "    .dataframe tbody tr th:only-of-type {\n",
       "        vertical-align: middle;\n",
       "    }\n",
       "\n",
       "    .dataframe tbody tr th {\n",
       "        vertical-align: top;\n",
       "    }\n",
       "\n",
       "    .dataframe thead th {\n",
       "        text-align: right;\n",
       "    }\n",
       "</style>\n",
       "<table border=\"1\" class=\"dataframe\">\n",
       "  <thead>\n",
       "    <tr style=\"text-align: right;\">\n",
       "      <th></th>\n",
       "      <th>Unnamed: 0</th>\n",
       "      <th>Filename</th>\n",
       "      <th>Stacked Bursts</th>\n",
       "      <th>Template</th>\n",
       "      <th>DIV</th>\n",
       "      <th>chip</th>\n",
       "      <th>line</th>\n",
       "    </tr>\n",
       "  </thead>\n",
       "  <tbody>\n",
       "    <tr>\n",
       "      <th>0</th>\n",
       "      <td>0</td>\n",
       "      <td>000222_21609_NetworkTemplates</td>\n",
       "      <td>[[0.99438312 1.08838888 1.19630152 ... 2.92374...</td>\n",
       "      <td>[1.26062699 1.34825061 1.44440121 1.54928095 1...</td>\n",
       "      <td>101</td>\n",
       "      <td>21609</td>\n",
       "      <td>syngap control</td>\n",
       "    </tr>\n",
       "    <tr>\n",
       "      <th>1</th>\n",
       "      <td>1</td>\n",
       "      <td>000161_21644_NetworkTemplates</td>\n",
       "      <td>[[1.9611316  2.02672095 2.10406646 ... 3.95832...</td>\n",
       "      <td>[1.65395698 1.75807145 1.87263858 1.99962257 2...</td>\n",
       "      <td>96</td>\n",
       "      <td>21644</td>\n",
       "      <td>Syngap</td>\n",
       "    </tr>\n",
       "    <tr>\n",
       "      <th>2</th>\n",
       "      <td>2</td>\n",
       "      <td>000228_21661_NetworkTemplates</td>\n",
       "      <td>[[1.8402909  1.92787001 2.01309861 2.09426237 ...</td>\n",
       "      <td>[1.8402909  1.92787001 2.01309861 2.09426237 2...</td>\n",
       "      <td>101</td>\n",
       "      <td>21661</td>\n",
       "      <td>Syngap</td>\n",
       "    </tr>\n",
       "    <tr>\n",
       "      <th>3</th>\n",
       "      <td>3</td>\n",
       "      <td>000136_21625_NetworkTemplates</td>\n",
       "      <td>[[1.30128867 1.3491664  1.40310055 1.46455704 ...</td>\n",
       "      <td>[1.31038082 1.37085072 1.43392491 1.50228138 1...</td>\n",
       "      <td>89</td>\n",
       "      <td>21625</td>\n",
       "      <td>Syngap</td>\n",
       "    </tr>\n",
       "    <tr>\n",
       "      <th>4</th>\n",
       "      <td>4</td>\n",
       "      <td>000154_21664_NetworkTemplates</td>\n",
       "      <td>[[0.7418993  0.73568096 0.74095609 ... 1.73753...</td>\n",
       "      <td>[1.17821682 1.20267892 1.23607757 1.28072028 1...</td>\n",
       "      <td>96</td>\n",
       "      <td>21664</td>\n",
       "      <td>Syngap</td>\n",
       "    </tr>\n",
       "    <tr>\n",
       "      <th>5</th>\n",
       "      <td>5</td>\n",
       "      <td>000103_21613_NetworkTemplates</td>\n",
       "      <td>[[1.79737909 1.95905976 2.1311393  ... 4.70322...</td>\n",
       "      <td>[2.07499367 2.21568193 2.36421471 2.52081108 2...</td>\n",
       "      <td>84</td>\n",
       "      <td>21613</td>\n",
       "      <td>syngap control</td>\n",
       "    </tr>\n",
       "    <tr>\n",
       "      <th>6</th>\n",
       "      <td>6</td>\n",
       "      <td>000099_21609_NetworkTemplates</td>\n",
       "      <td>[[1.60241866 1.68329402 1.77163644 ... 3.47200...</td>\n",
       "      <td>[1.82154946 1.88215309 1.94836992 2.02182548 2...</td>\n",
       "      <td>84</td>\n",
       "      <td>21609</td>\n",
       "      <td>syngap control</td>\n",
       "    </tr>\n",
       "    <tr>\n",
       "      <th>7</th>\n",
       "      <td>7</td>\n",
       "      <td>000146_21648_NetworkTemplates</td>\n",
       "      <td>[[1.68654563 1.7678553  1.8532181  ... 2.61778...</td>\n",
       "      <td>[1.44253508 1.50217379 1.56493317 1.63102618 1...</td>\n",
       "      <td>96</td>\n",
       "      <td>21648</td>\n",
       "      <td>syngap control</td>\n",
       "    </tr>\n",
       "  </tbody>\n",
       "</table>\n",
       "</div>"
      ],
      "text/plain": [
       "   Unnamed: 0                       Filename   \n",
       "0           0  000222_21609_NetworkTemplates  \\\n",
       "1           1  000161_21644_NetworkTemplates   \n",
       "2           2  000228_21661_NetworkTemplates   \n",
       "3           3  000136_21625_NetworkTemplates   \n",
       "4           4  000154_21664_NetworkTemplates   \n",
       "5           5  000103_21613_NetworkTemplates   \n",
       "6           6  000099_21609_NetworkTemplates   \n",
       "7           7  000146_21648_NetworkTemplates   \n",
       "\n",
       "                                      Stacked Bursts   \n",
       "0  [[0.99438312 1.08838888 1.19630152 ... 2.92374...  \\\n",
       "1  [[1.9611316  2.02672095 2.10406646 ... 3.95832...   \n",
       "2  [[1.8402909  1.92787001 2.01309861 2.09426237 ...   \n",
       "3  [[1.30128867 1.3491664  1.40310055 1.46455704 ...   \n",
       "4  [[0.7418993  0.73568096 0.74095609 ... 1.73753...   \n",
       "5  [[1.79737909 1.95905976 2.1311393  ... 4.70322...   \n",
       "6  [[1.60241866 1.68329402 1.77163644 ... 3.47200...   \n",
       "7  [[1.68654563 1.7678553  1.8532181  ... 2.61778...   \n",
       "\n",
       "                                            Template  DIV   chip   \n",
       "0  [1.26062699 1.34825061 1.44440121 1.54928095 1...  101  21609  \\\n",
       "1  [1.65395698 1.75807145 1.87263858 1.99962257 2...   96  21644   \n",
       "2  [1.8402909  1.92787001 2.01309861 2.09426237 2...  101  21661   \n",
       "3  [1.31038082 1.37085072 1.43392491 1.50228138 1...   89  21625   \n",
       "4  [1.17821682 1.20267892 1.23607757 1.28072028 1...   96  21664   \n",
       "5  [2.07499367 2.21568193 2.36421471 2.52081108 2...   84  21613   \n",
       "6  [1.82154946 1.88215309 1.94836992 2.02182548 2...   84  21609   \n",
       "7  [1.44253508 1.50217379 1.56493317 1.63102618 1...   96  21648   \n",
       "\n",
       "             line  \n",
       "0  syngap control  \n",
       "1          Syngap  \n",
       "2          Syngap  \n",
       "3          Syngap  \n",
       "4          Syngap  \n",
       "5  syngap control  \n",
       "6  syngap control  \n",
       "7  syngap control  "
      ]
     },
     "execution_count": 103,
     "metadata": {},
     "output_type": "execute_result"
    }
   ],
   "source": [
    "df1.head(8)"
   ]
  },
  {
   "cell_type": "code",
   "execution_count": 186,
   "id": "052e8ef7",
   "metadata": {},
   "outputs": [],
   "source": [
    "df2 = pd.read_excel(\"/mnt/disk15tb/mmpatil/MEA_Analysis/TemplateMatching/template_outputs3.xlsx\")"
   ]
  },
  {
   "cell_type": "code",
   "execution_count": 187,
   "id": "5e03d691",
   "metadata": {},
   "outputs": [
    {
     "data": {
      "text/html": [
       "<div>\n",
       "<style scoped>\n",
       "    .dataframe tbody tr th:only-of-type {\n",
       "        vertical-align: middle;\n",
       "    }\n",
       "\n",
       "    .dataframe tbody tr th {\n",
       "        vertical-align: top;\n",
       "    }\n",
       "\n",
       "    .dataframe thead th {\n",
       "        text-align: right;\n",
       "    }\n",
       "</style>\n",
       "<table border=\"1\" class=\"dataframe\">\n",
       "  <thead>\n",
       "    <tr style=\"text-align: right;\">\n",
       "      <th></th>\n",
       "      <th>Filename</th>\n",
       "      <th>Stacked Bursts</th>\n",
       "      <th>Template</th>\n",
       "    </tr>\n",
       "  </thead>\n",
       "  <tbody>\n",
       "    <tr>\n",
       "      <th>0</th>\n",
       "      <td>000222_21609_NetworkTemplates</td>\n",
       "      <td>[[0.45234466 0.45936815 0.46524731 ... 1.54839...</td>\n",
       "      <td>[0.61343212 0.62181516 0.63086935 0.64123468 0...</td>\n",
       "    </tr>\n",
       "    <tr>\n",
       "      <th>1</th>\n",
       "      <td>000161_21644_NetworkTemplates</td>\n",
       "      <td>[[1.14734832 1.20479232 1.26148431 ... 1.73253...</td>\n",
       "      <td>[0.65177802 0.67811095 0.70587687 0.7352316  0...</td>\n",
       "    </tr>\n",
       "    <tr>\n",
       "      <th>2</th>\n",
       "      <td>000228_21661_NetworkTemplates</td>\n",
       "      <td>[[0.56242472 0.57406623 0.58923361 0.61241983 ...</td>\n",
       "      <td>[0.56242472 0.57406623 0.58923361 0.61241983 0...</td>\n",
       "    </tr>\n",
       "    <tr>\n",
       "      <th>3</th>\n",
       "      <td>000136_21625_NetworkTemplates</td>\n",
       "      <td>[[0.6005309  0.63336424 0.66715807 0.70204374 ...</td>\n",
       "      <td>[0.739896   0.75477964 0.76856698 0.78244659 0...</td>\n",
       "    </tr>\n",
       "    <tr>\n",
       "      <th>4</th>\n",
       "      <td>000154_21664_NetworkTemplates</td>\n",
       "      <td>[[1.51277036 1.49676299 1.47495943 ... 0.38910...</td>\n",
       "      <td>[1.12353803 1.13370994 1.14221275 1.14926882 1...</td>\n",
       "    </tr>\n",
       "  </tbody>\n",
       "</table>\n",
       "</div>"
      ],
      "text/plain": [
       "                        Filename   \n",
       "0  000222_21609_NetworkTemplates  \\\n",
       "1  000161_21644_NetworkTemplates   \n",
       "2  000228_21661_NetworkTemplates   \n",
       "3  000136_21625_NetworkTemplates   \n",
       "4  000154_21664_NetworkTemplates   \n",
       "\n",
       "                                      Stacked Bursts   \n",
       "0  [[0.45234466 0.45936815 0.46524731 ... 1.54839...  \\\n",
       "1  [[1.14734832 1.20479232 1.26148431 ... 1.73253...   \n",
       "2  [[0.56242472 0.57406623 0.58923361 0.61241983 ...   \n",
       "3  [[0.6005309  0.63336424 0.66715807 0.70204374 ...   \n",
       "4  [[1.51277036 1.49676299 1.47495943 ... 0.38910...   \n",
       "\n",
       "                                            Template  \n",
       "0  [0.61343212 0.62181516 0.63086935 0.64123468 0...  \n",
       "1  [0.65177802 0.67811095 0.70587687 0.7352316  0...  \n",
       "2  [0.56242472 0.57406623 0.58923361 0.61241983 0...  \n",
       "3  [0.739896   0.75477964 0.76856698 0.78244659 0...  \n",
       "4  [1.12353803 1.13370994 1.14221275 1.14926882 1...  "
      ]
     },
     "execution_count": 187,
     "metadata": {},
     "output_type": "execute_result"
    }
   ],
   "source": [
    "df2.head()"
   ]
  },
  {
   "cell_type": "code",
   "execution_count": 188,
   "id": "6c86f94c",
   "metadata": {},
   "outputs": [],
   "source": [
    "df2['DIV']=df1['DIV']\n",
    "df2['chip'] = df1['chip']\n",
    "df2['line']=df1['line']"
   ]
  },
  {
   "cell_type": "code",
   "execution_count": 189,
   "id": "f886e8f5",
   "metadata": {},
   "outputs": [
    {
     "data": {
      "text/html": [
       "<div>\n",
       "<style scoped>\n",
       "    .dataframe tbody tr th:only-of-type {\n",
       "        vertical-align: middle;\n",
       "    }\n",
       "\n",
       "    .dataframe tbody tr th {\n",
       "        vertical-align: top;\n",
       "    }\n",
       "\n",
       "    .dataframe thead th {\n",
       "        text-align: right;\n",
       "    }\n",
       "</style>\n",
       "<table border=\"1\" class=\"dataframe\">\n",
       "  <thead>\n",
       "    <tr style=\"text-align: right;\">\n",
       "      <th></th>\n",
       "      <th>Filename</th>\n",
       "      <th>Stacked Bursts</th>\n",
       "      <th>Template</th>\n",
       "      <th>DIV</th>\n",
       "      <th>chip</th>\n",
       "      <th>line</th>\n",
       "    </tr>\n",
       "  </thead>\n",
       "  <tbody>\n",
       "    <tr>\n",
       "      <th>16</th>\n",
       "      <td>000105_21644_NetworkTemplates</td>\n",
       "      <td>[[1.55716778 1.61029064 1.66351779 ... 1.18371...</td>\n",
       "      <td>[1.08541411 1.10436279 1.12461705 1.14619046 1...</td>\n",
       "      <td>84</td>\n",
       "      <td>21644</td>\n",
       "      <td>Syngap</td>\n",
       "    </tr>\n",
       "    <tr>\n",
       "      <th>5</th>\n",
       "      <td>000103_21613_NetworkTemplates</td>\n",
       "      <td>[[0.58453784 0.58388881 0.5857217  ... 2.83711...</td>\n",
       "      <td>[0.6991273  0.72231986 0.74825211 0.77728675 0...</td>\n",
       "      <td>84</td>\n",
       "      <td>21613</td>\n",
       "      <td>syngap control</td>\n",
       "    </tr>\n",
       "    <tr>\n",
       "      <th>6</th>\n",
       "      <td>000099_21609_NetworkTemplates</td>\n",
       "      <td>[[0.88421591 0.90285723 0.92169832 ... 1.69360...</td>\n",
       "      <td>[1.05169561 1.08185057 1.11262743 1.14424312 1...</td>\n",
       "      <td>84</td>\n",
       "      <td>21609</td>\n",
       "      <td>syngap control</td>\n",
       "    </tr>\n",
       "    <tr>\n",
       "      <th>21</th>\n",
       "      <td>000101_21664_NetworkTemplates</td>\n",
       "      <td>[[1.74465438 1.77824427 1.8062515  1.82788049 ...</td>\n",
       "      <td>[1.24128975 1.27419083 1.30633369 1.33740203 1...</td>\n",
       "      <td>84</td>\n",
       "      <td>21664</td>\n",
       "      <td>Syngap</td>\n",
       "    </tr>\n",
       "    <tr>\n",
       "      <th>20</th>\n",
       "      <td>000093_21661_NetworkTemplates</td>\n",
       "      <td>[[1.22032918 1.23645426 1.25204685 ... 1.17951...</td>\n",
       "      <td>[1.24080195 1.26341314 1.28659993 1.31026458 1...</td>\n",
       "      <td>84</td>\n",
       "      <td>21661</td>\n",
       "      <td>Syngap</td>\n",
       "    </tr>\n",
       "    <tr>\n",
       "      <th>11</th>\n",
       "      <td>000091_21648_NetworkTemplates</td>\n",
       "      <td>[[1.14431334 1.18702523 1.23339635 ... 1.55301...</td>\n",
       "      <td>[1.21905901 1.24728183 1.27691475 1.30804304 1...</td>\n",
       "      <td>84</td>\n",
       "      <td>21648</td>\n",
       "      <td>syngap control</td>\n",
       "    </tr>\n",
       "    <tr>\n",
       "      <th>13</th>\n",
       "      <td>000087_21670_NetworkTemplates</td>\n",
       "      <td>[[1.29039636 1.2924227  1.29438976 ... 2.26168...</td>\n",
       "      <td>[0.66012801 0.68061872 0.70211907 0.72492602 0...</td>\n",
       "      <td>84</td>\n",
       "      <td>21670</td>\n",
       "      <td>syngap control</td>\n",
       "    </tr>\n",
       "    <tr>\n",
       "      <th>31</th>\n",
       "      <td>000113_21670_NetworkTemplates</td>\n",
       "      <td>[[0.47613212 0.50067745 0.52616663 ... 1.58861...</td>\n",
       "      <td>[0.44535451 0.45772915 0.47205749 0.48851495 0...</td>\n",
       "      <td>88</td>\n",
       "      <td>21670</td>\n",
       "      <td>syngap control</td>\n",
       "    </tr>\n",
       "    <tr>\n",
       "      <th>29</th>\n",
       "      <td>000115_21625_NetworkTemplates</td>\n",
       "      <td>[[0.161348   0.17006349 0.17931069 0.18930161 ...</td>\n",
       "      <td>[0.21601379 0.22374964 0.23285798 0.24332529 0...</td>\n",
       "      <td>88</td>\n",
       "      <td>21625</td>\n",
       "      <td>Syngap</td>\n",
       "    </tr>\n",
       "    <tr>\n",
       "      <th>25</th>\n",
       "      <td>000119_21648_NetworkTemplates</td>\n",
       "      <td>[[1.19599006 1.21200868 1.2275352  ... 2.35926...</td>\n",
       "      <td>[1.16776919 1.19358921 1.22128195 1.25067354 1...</td>\n",
       "      <td>88</td>\n",
       "      <td>21648</td>\n",
       "      <td>syngap control</td>\n",
       "    </tr>\n",
       "    <tr>\n",
       "      <th>24</th>\n",
       "      <td>000121_21664_NetworkTemplates</td>\n",
       "      <td>[[0.33452014 0.35226515 0.37022232 ... 0.46773...</td>\n",
       "      <td>[1.09051889 1.11860606 1.14378642 1.1659097  1...</td>\n",
       "      <td>88</td>\n",
       "      <td>21664</td>\n",
       "      <td>Syngap</td>\n",
       "    </tr>\n",
       "    <tr>\n",
       "      <th>22</th>\n",
       "      <td>000117_21661_NetworkTemplates</td>\n",
       "      <td>[[1.43808785 1.49078813 1.54268318 ... 1.83609...</td>\n",
       "      <td>[1.51857957 1.54011978 1.56212991 1.5845871  1...</td>\n",
       "      <td>88</td>\n",
       "      <td>21661</td>\n",
       "      <td>Syngap</td>\n",
       "    </tr>\n",
       "    <tr>\n",
       "      <th>18</th>\n",
       "      <td>000111_21644_NetworkTemplates</td>\n",
       "      <td>[[1.28782077 1.30645526 1.31929746 ... 1.81896...</td>\n",
       "      <td>[1.27773543 1.29812875 1.31688804 1.33404402 1...</td>\n",
       "      <td>88</td>\n",
       "      <td>21644</td>\n",
       "      <td>Syngap</td>\n",
       "    </tr>\n",
       "    <tr>\n",
       "      <th>17</th>\n",
       "      <td>000109_21613_NetworkTemplates</td>\n",
       "      <td>[[0.54430377 0.56825536 0.59390111 ... 2.61936...</td>\n",
       "      <td>[0.56919629 0.58624841 0.60480755 0.62520244 0...</td>\n",
       "      <td>88</td>\n",
       "      <td>21613</td>\n",
       "      <td>syngap control</td>\n",
       "    </tr>\n",
       "    <tr>\n",
       "      <th>15</th>\n",
       "      <td>000123_21609_NetworkTemplates</td>\n",
       "      <td>[[0.27486418 0.27214167 0.27177553 ... 1.45451...</td>\n",
       "      <td>[0.6153317  0.6339447  0.65390427 0.67584302 0...</td>\n",
       "      <td>88</td>\n",
       "      <td>21609</td>\n",
       "      <td>syngap control</td>\n",
       "    </tr>\n",
       "    <tr>\n",
       "      <th>26</th>\n",
       "      <td>000129_21648_NetworkTemplates</td>\n",
       "      <td>[[1.28901421 1.32422357 1.36190871 ... 2.32845...</td>\n",
       "      <td>[1.35326037 1.39257329 1.43423292 1.47811963 1...</td>\n",
       "      <td>89</td>\n",
       "      <td>21648</td>\n",
       "      <td>syngap control</td>\n",
       "    </tr>\n",
       "    <tr>\n",
       "      <th>33</th>\n",
       "      <td>000138_21661_NetworkTemplates</td>\n",
       "      <td>[[1.07914755 1.11025139 1.14360194 ... 1.84753...</td>\n",
       "      <td>[1.24154168 1.26766493 1.29534247 1.32426215 1...</td>\n",
       "      <td>89</td>\n",
       "      <td>21661</td>\n",
       "      <td>Syngap</td>\n",
       "    </tr>\n",
       "    <tr>\n",
       "      <th>12</th>\n",
       "      <td>000125_21670_NetworkTemplates</td>\n",
       "      <td>[[0.79147532 0.83560861 0.88322204 ... 2.06628...</td>\n",
       "      <td>[0.67026252 0.70144591 0.73510957 0.77157175 0...</td>\n",
       "      <td>89</td>\n",
       "      <td>21670</td>\n",
       "      <td>syngap control</td>\n",
       "    </tr>\n",
       "    <tr>\n",
       "      <th>3</th>\n",
       "      <td>000136_21625_NetworkTemplates</td>\n",
       "      <td>[[0.6005309  0.63336424 0.66715807 0.70204374 ...</td>\n",
       "      <td>[0.739896   0.75477964 0.76856698 0.78244659 0...</td>\n",
       "      <td>89</td>\n",
       "      <td>21625</td>\n",
       "      <td>Syngap</td>\n",
       "    </tr>\n",
       "    <tr>\n",
       "      <th>14</th>\n",
       "      <td>000156_21625_NetworkTemplates</td>\n",
       "      <td>[[0.10490454 0.10467247 0.10402189 ... 0.25320...</td>\n",
       "      <td>[0.17376755 0.17514962 0.17699951 0.17937122 0...</td>\n",
       "      <td>96</td>\n",
       "      <td>21625</td>\n",
       "      <td>Syngap</td>\n",
       "    </tr>\n",
       "    <tr>\n",
       "      <th>1</th>\n",
       "      <td>000161_21644_NetworkTemplates</td>\n",
       "      <td>[[1.14734832 1.20479232 1.26148431 ... 1.73253...</td>\n",
       "      <td>[0.65177802 0.67811095 0.70587687 0.7352316  0...</td>\n",
       "      <td>96</td>\n",
       "      <td>21644</td>\n",
       "      <td>Syngap</td>\n",
       "    </tr>\n",
       "    <tr>\n",
       "      <th>27</th>\n",
       "      <td>000159_21613_NetworkTemplates</td>\n",
       "      <td>[[0.73247541 0.75454863 0.7802261  ... 2.64613...</td>\n",
       "      <td>[0.67656224 0.69207255 0.70952851 0.72894559 0...</td>\n",
       "      <td>96</td>\n",
       "      <td>21613</td>\n",
       "      <td>syngap control</td>\n",
       "    </tr>\n",
       "    <tr>\n",
       "      <th>32</th>\n",
       "      <td>000163_21609_NetworkTemplates</td>\n",
       "      <td>[[0.71059062 0.7131296  0.72094795 ... 1.57204...</td>\n",
       "      <td>[0.92266904 0.94185482 0.96233397 0.98394938 1...</td>\n",
       "      <td>96</td>\n",
       "      <td>21609</td>\n",
       "      <td>syngap control</td>\n",
       "    </tr>\n",
       "    <tr>\n",
       "      <th>7</th>\n",
       "      <td>000146_21648_NetworkTemplates</td>\n",
       "      <td>[[0.96403037 0.96783994 0.97334504 ... 1.81024...</td>\n",
       "      <td>[0.66883042 0.69173436 0.71631135 0.74256485 0...</td>\n",
       "      <td>96</td>\n",
       "      <td>21648</td>\n",
       "      <td>syngap control</td>\n",
       "    </tr>\n",
       "    <tr>\n",
       "      <th>4</th>\n",
       "      <td>000154_21664_NetworkTemplates</td>\n",
       "      <td>[[1.51277036 1.49676299 1.47495943 ... 0.38910...</td>\n",
       "      <td>[1.12353803 1.13370994 1.14221275 1.14926882 1...</td>\n",
       "      <td>96</td>\n",
       "      <td>21664</td>\n",
       "      <td>Syngap</td>\n",
       "    </tr>\n",
       "    <tr>\n",
       "      <th>9</th>\n",
       "      <td>000150_21670_NetworkTemplates</td>\n",
       "      <td>[[0.49850919 0.49575451 0.49365876 ... 2.35853...</td>\n",
       "      <td>[0.63254218 0.63521058 0.63867146 0.64306455 0...</td>\n",
       "      <td>96</td>\n",
       "      <td>21670</td>\n",
       "      <td>syngap control</td>\n",
       "    </tr>\n",
       "    <tr>\n",
       "      <th>10</th>\n",
       "      <td>000148_21661_NetworkTemplates</td>\n",
       "      <td>[[1.93139588 1.97378208 2.00424342 ... 1.79099...</td>\n",
       "      <td>[0.81548422 0.82434856 0.83372425 0.84371706 0...</td>\n",
       "      <td>96</td>\n",
       "      <td>21661</td>\n",
       "      <td>Syngap</td>\n",
       "    </tr>\n",
       "    <tr>\n",
       "      <th>8</th>\n",
       "      <td>000224_21664_NetworkTemplates</td>\n",
       "      <td>[[0.59887976 0.62195001 0.65082075 ... 2.59420...</td>\n",
       "      <td>[1.24573468 1.28732276 1.32973672 1.37267153 1...</td>\n",
       "      <td>101</td>\n",
       "      <td>21664</td>\n",
       "      <td>Syngap</td>\n",
       "    </tr>\n",
       "    <tr>\n",
       "      <th>28</th>\n",
       "      <td>000218_21670_NetworkTemplates</td>\n",
       "      <td>[[0.75026488 0.78708261 0.82448629 ... 2.58990...</td>\n",
       "      <td>[0.84500214 0.85606527 0.86718644 0.87868389 0...</td>\n",
       "      <td>101</td>\n",
       "      <td>21670</td>\n",
       "      <td>syngap control</td>\n",
       "    </tr>\n",
       "    <tr>\n",
       "      <th>2</th>\n",
       "      <td>000228_21661_NetworkTemplates</td>\n",
       "      <td>[[0.56242472 0.57406623 0.58923361 0.61241983 ...</td>\n",
       "      <td>[0.56242472 0.57406623 0.58923361 0.61241983 0...</td>\n",
       "      <td>101</td>\n",
       "      <td>21661</td>\n",
       "      <td>Syngap</td>\n",
       "    </tr>\n",
       "    <tr>\n",
       "      <th>30</th>\n",
       "      <td>000230_21613_NetworkTemplates</td>\n",
       "      <td>[[0.83231241 0.84765126 0.86275131 ... 2.60291...</td>\n",
       "      <td>[0.84888113 0.86310913 0.87852318 0.89504983 0...</td>\n",
       "      <td>101</td>\n",
       "      <td>21613</td>\n",
       "      <td>syngap control</td>\n",
       "    </tr>\n",
       "    <tr>\n",
       "      <th>19</th>\n",
       "      <td>000215_21625_NetworkTemplates</td>\n",
       "      <td>[[0.79550727 0.80502112 0.81049362 ... 0.38763...</td>\n",
       "      <td>[0.54534708 0.56627052 0.58723152 0.60834404 0...</td>\n",
       "      <td>101</td>\n",
       "      <td>21625</td>\n",
       "      <td>Syngap</td>\n",
       "    </tr>\n",
       "    <tr>\n",
       "      <th>23</th>\n",
       "      <td>000226_21648_NetworkTemplates</td>\n",
       "      <td>[[0.50990907 0.52380879 0.53992313 ... 2.23995...</td>\n",
       "      <td>[0.66311259 0.67624544 0.690297   0.70541012 0...</td>\n",
       "      <td>101</td>\n",
       "      <td>21648</td>\n",
       "      <td>syngap control</td>\n",
       "    </tr>\n",
       "    <tr>\n",
       "      <th>0</th>\n",
       "      <td>000222_21609_NetworkTemplates</td>\n",
       "      <td>[[0.45234466 0.45936815 0.46524731 ... 1.54839...</td>\n",
       "      <td>[0.61343212 0.62181516 0.63086935 0.64123468 0...</td>\n",
       "      <td>101</td>\n",
       "      <td>21609</td>\n",
       "      <td>syngap control</td>\n",
       "    </tr>\n",
       "  </tbody>\n",
       "</table>\n",
       "</div>"
      ],
      "text/plain": [
       "                         Filename   \n",
       "16  000105_21644_NetworkTemplates  \\\n",
       "5   000103_21613_NetworkTemplates   \n",
       "6   000099_21609_NetworkTemplates   \n",
       "21  000101_21664_NetworkTemplates   \n",
       "20  000093_21661_NetworkTemplates   \n",
       "11  000091_21648_NetworkTemplates   \n",
       "13  000087_21670_NetworkTemplates   \n",
       "31  000113_21670_NetworkTemplates   \n",
       "29  000115_21625_NetworkTemplates   \n",
       "25  000119_21648_NetworkTemplates   \n",
       "24  000121_21664_NetworkTemplates   \n",
       "22  000117_21661_NetworkTemplates   \n",
       "18  000111_21644_NetworkTemplates   \n",
       "17  000109_21613_NetworkTemplates   \n",
       "15  000123_21609_NetworkTemplates   \n",
       "26  000129_21648_NetworkTemplates   \n",
       "33  000138_21661_NetworkTemplates   \n",
       "12  000125_21670_NetworkTemplates   \n",
       "3   000136_21625_NetworkTemplates   \n",
       "14  000156_21625_NetworkTemplates   \n",
       "1   000161_21644_NetworkTemplates   \n",
       "27  000159_21613_NetworkTemplates   \n",
       "32  000163_21609_NetworkTemplates   \n",
       "7   000146_21648_NetworkTemplates   \n",
       "4   000154_21664_NetworkTemplates   \n",
       "9   000150_21670_NetworkTemplates   \n",
       "10  000148_21661_NetworkTemplates   \n",
       "8   000224_21664_NetworkTemplates   \n",
       "28  000218_21670_NetworkTemplates   \n",
       "2   000228_21661_NetworkTemplates   \n",
       "30  000230_21613_NetworkTemplates   \n",
       "19  000215_21625_NetworkTemplates   \n",
       "23  000226_21648_NetworkTemplates   \n",
       "0   000222_21609_NetworkTemplates   \n",
       "\n",
       "                                       Stacked Bursts   \n",
       "16  [[1.55716778 1.61029064 1.66351779 ... 1.18371...  \\\n",
       "5   [[0.58453784 0.58388881 0.5857217  ... 2.83711...   \n",
       "6   [[0.88421591 0.90285723 0.92169832 ... 1.69360...   \n",
       "21  [[1.74465438 1.77824427 1.8062515  1.82788049 ...   \n",
       "20  [[1.22032918 1.23645426 1.25204685 ... 1.17951...   \n",
       "11  [[1.14431334 1.18702523 1.23339635 ... 1.55301...   \n",
       "13  [[1.29039636 1.2924227  1.29438976 ... 2.26168...   \n",
       "31  [[0.47613212 0.50067745 0.52616663 ... 1.58861...   \n",
       "29  [[0.161348   0.17006349 0.17931069 0.18930161 ...   \n",
       "25  [[1.19599006 1.21200868 1.2275352  ... 2.35926...   \n",
       "24  [[0.33452014 0.35226515 0.37022232 ... 0.46773...   \n",
       "22  [[1.43808785 1.49078813 1.54268318 ... 1.83609...   \n",
       "18  [[1.28782077 1.30645526 1.31929746 ... 1.81896...   \n",
       "17  [[0.54430377 0.56825536 0.59390111 ... 2.61936...   \n",
       "15  [[0.27486418 0.27214167 0.27177553 ... 1.45451...   \n",
       "26  [[1.28901421 1.32422357 1.36190871 ... 2.32845...   \n",
       "33  [[1.07914755 1.11025139 1.14360194 ... 1.84753...   \n",
       "12  [[0.79147532 0.83560861 0.88322204 ... 2.06628...   \n",
       "3   [[0.6005309  0.63336424 0.66715807 0.70204374 ...   \n",
       "14  [[0.10490454 0.10467247 0.10402189 ... 0.25320...   \n",
       "1   [[1.14734832 1.20479232 1.26148431 ... 1.73253...   \n",
       "27  [[0.73247541 0.75454863 0.7802261  ... 2.64613...   \n",
       "32  [[0.71059062 0.7131296  0.72094795 ... 1.57204...   \n",
       "7   [[0.96403037 0.96783994 0.97334504 ... 1.81024...   \n",
       "4   [[1.51277036 1.49676299 1.47495943 ... 0.38910...   \n",
       "9   [[0.49850919 0.49575451 0.49365876 ... 2.35853...   \n",
       "10  [[1.93139588 1.97378208 2.00424342 ... 1.79099...   \n",
       "8   [[0.59887976 0.62195001 0.65082075 ... 2.59420...   \n",
       "28  [[0.75026488 0.78708261 0.82448629 ... 2.58990...   \n",
       "2   [[0.56242472 0.57406623 0.58923361 0.61241983 ...   \n",
       "30  [[0.83231241 0.84765126 0.86275131 ... 2.60291...   \n",
       "19  [[0.79550727 0.80502112 0.81049362 ... 0.38763...   \n",
       "23  [[0.50990907 0.52380879 0.53992313 ... 2.23995...   \n",
       "0   [[0.45234466 0.45936815 0.46524731 ... 1.54839...   \n",
       "\n",
       "                                             Template  DIV   chip   \n",
       "16  [1.08541411 1.10436279 1.12461705 1.14619046 1...   84  21644  \\\n",
       "5   [0.6991273  0.72231986 0.74825211 0.77728675 0...   84  21613   \n",
       "6   [1.05169561 1.08185057 1.11262743 1.14424312 1...   84  21609   \n",
       "21  [1.24128975 1.27419083 1.30633369 1.33740203 1...   84  21664   \n",
       "20  [1.24080195 1.26341314 1.28659993 1.31026458 1...   84  21661   \n",
       "11  [1.21905901 1.24728183 1.27691475 1.30804304 1...   84  21648   \n",
       "13  [0.66012801 0.68061872 0.70211907 0.72492602 0...   84  21670   \n",
       "31  [0.44535451 0.45772915 0.47205749 0.48851495 0...   88  21670   \n",
       "29  [0.21601379 0.22374964 0.23285798 0.24332529 0...   88  21625   \n",
       "25  [1.16776919 1.19358921 1.22128195 1.25067354 1...   88  21648   \n",
       "24  [1.09051889 1.11860606 1.14378642 1.1659097  1...   88  21664   \n",
       "22  [1.51857957 1.54011978 1.56212991 1.5845871  1...   88  21661   \n",
       "18  [1.27773543 1.29812875 1.31688804 1.33404402 1...   88  21644   \n",
       "17  [0.56919629 0.58624841 0.60480755 0.62520244 0...   88  21613   \n",
       "15  [0.6153317  0.6339447  0.65390427 0.67584302 0...   88  21609   \n",
       "26  [1.35326037 1.39257329 1.43423292 1.47811963 1...   89  21648   \n",
       "33  [1.24154168 1.26766493 1.29534247 1.32426215 1...   89  21661   \n",
       "12  [0.67026252 0.70144591 0.73510957 0.77157175 0...   89  21670   \n",
       "3   [0.739896   0.75477964 0.76856698 0.78244659 0...   89  21625   \n",
       "14  [0.17376755 0.17514962 0.17699951 0.17937122 0...   96  21625   \n",
       "1   [0.65177802 0.67811095 0.70587687 0.7352316  0...   96  21644   \n",
       "27  [0.67656224 0.69207255 0.70952851 0.72894559 0...   96  21613   \n",
       "32  [0.92266904 0.94185482 0.96233397 0.98394938 1...   96  21609   \n",
       "7   [0.66883042 0.69173436 0.71631135 0.74256485 0...   96  21648   \n",
       "4   [1.12353803 1.13370994 1.14221275 1.14926882 1...   96  21664   \n",
       "9   [0.63254218 0.63521058 0.63867146 0.64306455 0...   96  21670   \n",
       "10  [0.81548422 0.82434856 0.83372425 0.84371706 0...   96  21661   \n",
       "8   [1.24573468 1.28732276 1.32973672 1.37267153 1...  101  21664   \n",
       "28  [0.84500214 0.85606527 0.86718644 0.87868389 0...  101  21670   \n",
       "2   [0.56242472 0.57406623 0.58923361 0.61241983 0...  101  21661   \n",
       "30  [0.84888113 0.86310913 0.87852318 0.89504983 0...  101  21613   \n",
       "19  [0.54534708 0.56627052 0.58723152 0.60834404 0...  101  21625   \n",
       "23  [0.66311259 0.67624544 0.690297   0.70541012 0...  101  21648   \n",
       "0   [0.61343212 0.62181516 0.63086935 0.64123468 0...  101  21609   \n",
       "\n",
       "              line  \n",
       "16          Syngap  \n",
       "5   syngap control  \n",
       "6   syngap control  \n",
       "21          Syngap  \n",
       "20          Syngap  \n",
       "11  syngap control  \n",
       "13  syngap control  \n",
       "31  syngap control  \n",
       "29          Syngap  \n",
       "25  syngap control  \n",
       "24          Syngap  \n",
       "22          Syngap  \n",
       "18          Syngap  \n",
       "17  syngap control  \n",
       "15  syngap control  \n",
       "26  syngap control  \n",
       "33          Syngap  \n",
       "12  syngap control  \n",
       "3           Syngap  \n",
       "14          Syngap  \n",
       "1           Syngap  \n",
       "27  syngap control  \n",
       "32  syngap control  \n",
       "7   syngap control  \n",
       "4           Syngap  \n",
       "9   syngap control  \n",
       "10          Syngap  \n",
       "8           Syngap  \n",
       "28  syngap control  \n",
       "2           Syngap  \n",
       "30  syngap control  \n",
       "19          Syngap  \n",
       "23  syngap control  \n",
       "0   syngap control  "
      ]
     },
     "metadata": {},
     "output_type": "display_data"
    }
   ],
   "source": [
    "sorted_df = df2.sort_values(by='DIV')\n",
    "display(sorted_df)"
   ]
  },
  {
   "cell_type": "code",
   "execution_count": 214,
   "id": "e3855c6e",
   "metadata": {},
   "outputs": [
    {
     "data": {
      "text/html": [
       "<div>\n",
       "<style scoped>\n",
       "    .dataframe tbody tr th:only-of-type {\n",
       "        vertical-align: middle;\n",
       "    }\n",
       "\n",
       "    .dataframe tbody tr th {\n",
       "        vertical-align: top;\n",
       "    }\n",
       "\n",
       "    .dataframe thead th {\n",
       "        text-align: right;\n",
       "    }\n",
       "</style>\n",
       "<table border=\"1\" class=\"dataframe\">\n",
       "  <thead>\n",
       "    <tr style=\"text-align: right;\">\n",
       "      <th></th>\n",
       "      <th>Filename</th>\n",
       "      <th>Stacked Bursts</th>\n",
       "      <th>Template</th>\n",
       "      <th>DIV</th>\n",
       "      <th>chip</th>\n",
       "      <th>line</th>\n",
       "    </tr>\n",
       "  </thead>\n",
       "  <tbody>\n",
       "    <tr>\n",
       "      <th>31</th>\n",
       "      <td>000113_21670_NetworkTemplates</td>\n",
       "      <td>[[0.47613212 0.50067745 0.52616663 ... 1.58861...</td>\n",
       "      <td>[0.44535451 0.45772915 0.47205749 0.48851495 0...</td>\n",
       "      <td>88</td>\n",
       "      <td>21670</td>\n",
       "      <td>syngap control</td>\n",
       "    </tr>\n",
       "    <tr>\n",
       "      <th>25</th>\n",
       "      <td>000119_21648_NetworkTemplates</td>\n",
       "      <td>[[1.19599006 1.21200868 1.2275352  ... 2.35926...</td>\n",
       "      <td>[1.16776919 1.19358921 1.22128195 1.25067354 1...</td>\n",
       "      <td>88</td>\n",
       "      <td>21648</td>\n",
       "      <td>syngap control</td>\n",
       "    </tr>\n",
       "    <tr>\n",
       "      <th>17</th>\n",
       "      <td>000109_21613_NetworkTemplates</td>\n",
       "      <td>[[0.54430377 0.56825536 0.59390111 ... 2.61936...</td>\n",
       "      <td>[0.56919629 0.58624841 0.60480755 0.62520244 0...</td>\n",
       "      <td>88</td>\n",
       "      <td>21613</td>\n",
       "      <td>syngap control</td>\n",
       "    </tr>\n",
       "    <tr>\n",
       "      <th>15</th>\n",
       "      <td>000123_21609_NetworkTemplates</td>\n",
       "      <td>[[0.27486418 0.27214167 0.27177553 ... 1.45451...</td>\n",
       "      <td>[0.6153317  0.6339447  0.65390427 0.67584302 0...</td>\n",
       "      <td>88</td>\n",
       "      <td>21609</td>\n",
       "      <td>syngap control</td>\n",
       "    </tr>\n",
       "  </tbody>\n",
       "</table>\n",
       "</div>"
      ],
      "text/plain": [
       "                         Filename   \n",
       "31  000113_21670_NetworkTemplates  \\\n",
       "25  000119_21648_NetworkTemplates   \n",
       "17  000109_21613_NetworkTemplates   \n",
       "15  000123_21609_NetworkTemplates   \n",
       "\n",
       "                                       Stacked Bursts   \n",
       "31  [[0.47613212 0.50067745 0.52616663 ... 1.58861...  \\\n",
       "25  [[1.19599006 1.21200868 1.2275352  ... 2.35926...   \n",
       "17  [[0.54430377 0.56825536 0.59390111 ... 2.61936...   \n",
       "15  [[0.27486418 0.27214167 0.27177553 ... 1.45451...   \n",
       "\n",
       "                                             Template  DIV   chip   \n",
       "31  [0.44535451 0.45772915 0.47205749 0.48851495 0...   88  21670  \\\n",
       "25  [1.16776919 1.19358921 1.22128195 1.25067354 1...   88  21648   \n",
       "17  [0.56919629 0.58624841 0.60480755 0.62520244 0...   88  21613   \n",
       "15  [0.6153317  0.6339447  0.65390427 0.67584302 0...   88  21609   \n",
       "\n",
       "              line  \n",
       "31  syngap control  \n",
       "25  syngap control  \n",
       "17  syngap control  \n",
       "15  syngap control  "
      ]
     },
     "execution_count": 214,
     "metadata": {},
     "output_type": "execute_result"
    }
   ],
   "source": [
    "condtion1=(sorted_df['DIV']==88)\n",
    "condition2=(sorted_df['line']=='syngap control')\n",
    "\n",
    "filtered_df = sorted_df[condtion1&condition2]\n",
    "\n"
   ]
  },
  {
   "cell_type": "code",
   "execution_count": 215,
   "id": "530701f2",
   "metadata": {},
   "outputs": [],
   "source": [
    "template_list =[]\n",
    "for i in range(len(filtered_df)):\n",
    "    file_name = filtered_df['Filename'].iloc[i]\n",
    "    with open(f\"/home/mmp/disktb/mmpatil/MEA_Analysis/TemplateMatching/TemplatesPickelFile/{file_name}.pkl\",'rb') as f4:\n",
    "        template_array= pickle.load(f4)\n",
    "    template_list.append(template_array)\n",
    "template_array = np.array(template_list)\n",
    "\n",
    "mean_template_wt = np.mean(template_array,axis=0)\n"
   ]
  },
  {
   "cell_type": "code",
   "execution_count": 216,
   "id": "7eef7a00",
   "metadata": {},
   "outputs": [
    {
     "data": {
      "text/plain": [
       "(97, 100)"
      ]
     },
     "execution_count": 216,
     "metadata": {},
     "output_type": "execute_result"
    }
   ],
   "source": [
    "stacked_bursts_array = []\n",
    "for i in range(len(filtered_df)):\n",
    "    file_name = filtered_df['Filename'].iloc[i]\n",
    "    with open(f\"/home/mmp/disktb/mmpatil/MEA_Analysis/TemplateMatching/StackedBurstPickelFile/{file_name}.pkl\",'rb') as f5:\n",
    "        stacked_bursts_here = pickle.load(f5)\n",
    "        # if stacked_bursts_array is None:\n",
    "        #     stacked_bursts_array  = stacked_bursts_here\n",
    "        # else :\n",
    "        stacked_bursts_array.append(stacked_bursts_here)\n",
    "stacked_arry_wt = np.vstack(stacked_bursts_array)\n",
    "stacked_arry_wt.shape"
   ]
  },
  {
   "cell_type": "code",
   "execution_count": 217,
   "id": "dcb758cb",
   "metadata": {},
   "outputs": [
    {
     "name": "stdout",
     "output_type": "stream",
     "text": [
      "[0.9891603646775236, 0.9850398647169305, 0.989348116969888, 0.9680397700255662, 0.9735908816744442, 0.9961685304746855, 0.9904230528787422, 0.9748864443352615, 0.9840690966129179, 0.9843148846655968, 0.9120814274732258, 0.9930758951155009, 0.9426607328992505, 0.9991694164620591, 0.9912528018290491, 0.9134400149164129, 0.9976383916868665, 0.9805191422341749, 0.9655906068130864, 0.9556790273357737, 0.9164734861446139, 0.9578639585507033, 0.982588390204035, 0.9692986457951902, 0.9982492904215956, 0.9992184989674024, 0.9921028664566759, 0.9535905631653536, 0.9719450333640157, 0.9966180798006777, 0.9774234351488851, 0.9773561585913996, 0.9935417598280012, 0.9969937765730608, 0.9810682756297052, 0.9935161431129444, 0.9942299551117295, 0.9641580870428987, 0.9824183333372781, 0.9923064531325065, 0.995434213087838, 0.9877610609525732, 0.9920727492919755, 0.9920096724843084, 0.9819831481333424, 0.9927646836987374, 0.993494941206905, 0.992619094404073, 0.9775145353497853, 0.9978501997982699, 0.9951842535153245, 0.9972827557858642, 0.9916354668553339, 0.9659064979830384, 0.993852084751803, 0.9964975453235958, 0.9972555539016374, 0.9921881862432216, 0.9959487290389645, 0.9968286442511677, 0.9924976039160625, 0.9913267404816212, 0.9931224510191027, 0.9796508480114946, 0.9937995389725509, 0.9917382873131942, 0.9959121326269924, 0.9950431263927451, 0.9899663214948763, 0.9497014720867067, 0.9966455285995027, 0.993184823586798, 0.9981044168866098, 0.9925845471434637, 0.9887405251098472, 0.9865483705237961, 0.9933894687730773, 0.9913334038181932, 0.9916370289022873, 0.9960318039609652, 0.9966155478811329, 0.9858979731255418, 0.9174659006936366, 0.9943657126694513, 0.9960235482672876, 0.9961489140883066, 0.9915256441351845, 0.8732411931252898, 0.9593555261583262, 0.9797993941224169, 0.9966081262965116, 0.9093127001366177, 0.9944517481691589, 0.9783707894048721, 0.9897294412835543, 0.9890989947575571, 0.9286829412121126]\n"
     ]
    }
   ],
   "source": [
    "pcc_scores_wt_wt= [np.corrcoef(mean_template_wt,burst)[0,1] for burst in stacked_arry_wt ]\n",
    "print(pcc_scores_wt_wt)\n"
   ]
  },
  {
   "cell_type": "code",
   "execution_count": 219,
   "id": "d9074c77",
   "metadata": {},
   "outputs": [
    {
     "name": "stdout",
     "output_type": "stream",
     "text": [
      "(74, 100)\n",
      "[0.9183722718402652, 0.9510322110105788, 0.9110847943332021, 0.7660968583446023, 0.8485270841902331, 0.9282624893383581, 0.908921325816993, 0.8099526016015473, 0.9213766549869621, 0.9279268936942883, 0.8449981159714853, 0.8276859015798218, 0.874590967712622, 0.8715593436288375, 0.932911482453818, 0.8086047401289786, 0.8899295514174732, 0.7651004642101129, 0.8892473779417586, 0.9327318002930962, 0.7866995935591281, 0.8539638111831177, 0.7761520319645415, 0.7854518228056737, 0.8689222247859582, 0.8388308851088727, 0.9151686022161258, 0.890047656624234, 0.9154801259633387, 0.9381101444558801, 0.8227666568451019, 0.8392254016637788, 0.9141559620995108, 0.8281408751782013, 0.9135541945869788, 0.9031438959380464, 0.9484223939921789, 0.969690931766659, 0.9096198006484127, 0.9125835646483138, 0.9844202328311312, 0.9602985396889662, 0.9567677484852751, 0.8778835486942317, 0.8643392359173665, 0.879117940463591, 0.911182645272319, 0.8664355991759075, 0.9767109285370756, 0.9561042655788, 0.9612944234124473, 0.8488823982964362, 0.6305653155339132, 0.960555266126585, 0.9227555256595367, 0.9048202290392938, 0.9625661283336276, 0.9242327062833345, 0.9585993369762021, 0.9115076586298777, 0.9488563190839222, 0.9575847043625768, 0.9550310281321004, 0.9041349441870395, 0.9310985371416007, 0.9243050724015869, 0.940966141143537, 0.930289912474083, 0.9353349434023797, 0.9656171917175541, 0.9361995881239984, 0.9245814089353047, 0.9272636285034346, 0.948059796344501]\n"
     ]
    }
   ],
   "source": [
    "condtion1=(sorted_df['DIV']==88)\n",
    "condition2=(sorted_df['line']=='Syngap')\n",
    "\n",
    "filtered_df = sorted_df[condtion1&condition2]\n",
    "template_list =[]\n",
    "for i in range(len(filtered_df)):\n",
    "    file_name = filtered_df['Filename'].iloc[i]\n",
    "    with open(f\"/home/mmp/disktb/mmpatil/MEA_Analysis/TemplateMatching/TemplatesPickelFile/{file_name}.pkl\",'rb') as f6:\n",
    "        template_array= pickle.load(f6)\n",
    "    template_list.append(template_array)\n",
    "template_array = np.array(template_list)\n",
    "\n",
    "mean_template_syngap = np.mean(template_array,axis=0)\n",
    "\n",
    "stacked_bursts_array = []\n",
    "for i in range(len(filtered_df)):\n",
    "    file_name = filtered_df['Filename'].iloc[i]\n",
    "    with open(f\"/home/mmp/disktb/mmpatil/MEA_Analysis/TemplateMatching/StackedBurstPickelFile/{file_name}.pkl\",'rb') as f7:\n",
    "        stacked_bursts_here = pickle.load(f7)\n",
    "        # if stacked_bursts_array is None:\n",
    "        #     stacked_bursts_array  = stacked_bursts_here\n",
    "        # else :\n",
    "        stacked_bursts_array.append(stacked_bursts_here)\n",
    "stacked_arry_syngap = np.vstack(stacked_bursts_array)\n",
    "print(stacked_arry_syngap.shape)\n",
    "pcc_scores_wt_syngap= [np.corrcoef(mean_template_wt,burst)[0,1] for burst in stacked_arry_syngap ]\n",
    "print(pcc_scores_wt_syngap)"
   ]
  },
  {
   "cell_type": "code",
   "execution_count": 237,
   "id": "9da906e0",
   "metadata": {},
   "outputs": [
    {
     "name": "stdout",
     "output_type": "stream",
     "text": [
      "(126, 100)\n",
      "[0.9923015239989976, 0.9881463199186176, 0.9761052223216163, 0.9975136168296933, 0.9957396330470123, 0.9855065147699796, 0.9869919216349963, 0.9936979102660485, 0.987686182625997, 0.9920416428073524, 0.9981758749783451, 0.9985699409704715, 0.9924695673984292, 0.9989324385989035, 0.998934154164325, 0.9902789354475258, 0.9827253952847566, 0.9921192976954359, 0.9937430647719148, 0.9842979244779334, 0.987380710250301, 0.9964613508139724, 0.9940970248691623, 0.9766708834620804, 0.998217062758406, 0.991436769172443, 0.9737818149247527, 0.9885460257303945, 0.9967354406159538, 0.9926679195158976, 0.9940487696406056, 0.995896674129531, 0.9965557440925855, 0.9814812247975561, 0.9955983869422713, 0.9951894367136557, 0.9966350547733052, 0.988643488193201, 0.9888091790817707, 0.9806136361976364, 0.9958616036328272, 0.9897534680703949, 0.9906421402134994, 0.9757167448993349, 0.9963824819552225, 0.9987762075309318, 0.9922510476881014, 0.9963578679431147, 0.9952391077274589, 0.9943921899812087, 0.9964662173032692, 0.9914446439366525, 0.988592004965934, 0.9969678024608739, 0.9855890115082356, 0.9938075317506189, 0.9983185616252431, 0.996181219570755, 0.9986017558545556, 0.9986599275668027, 0.9966008682588124, 0.9938100880293201, 0.9897837902189062, 0.996296307052405, 0.9941133397182729, 0.9925178838088653, 0.996899178096999, 0.996588906169031, 0.9912881175685719, 0.9958296401535756, 0.9907330846448946, 0.987669000852276, 0.9894228129667172, 0.9915089518221812, 0.9672522229560357, 0.9641787513302825, 0.982648137460762, 0.938211185925638, 0.994042003614155, 0.9805218771725237, 0.9956598206801756, 0.987928069088071, 0.9724008658538855, 0.9948905895691104, 0.9762379858245523, 0.9311103250557397, 0.956574588093598, 0.9667884797668007, 0.9757722790519137, 0.9821174128637584, 0.9672951426500077, 0.9089387958194667, 0.9669758590373484, 0.9940261774314936, 0.9864975318604569, 0.9849203343523704, 0.9843441832009081, 0.9632694255553973, 0.8931522874829028, 0.9935792062551931, 0.9930633876460196, 0.9893690537788911, 0.9878687341738235, 0.9822930376417437, 0.9923326460658477, 0.8728777230274164, 0.9834784350984783, 0.9752424884573374, 0.9857883089357216, 0.9877621870330712, 0.9325378683487566, 0.9652345890460147, 0.948974996871817, 0.9963065507293645, 0.9815540475714902, 0.9188529286179831, 0.9922200081531114, 0.9460843928878733, 0.9838454326677738, 0.9502822458639976, 0.9731462415444133, 0.9778829400443567, 0.990356900672284, 0.9808760746170886, 0.9821613121683936, 0.9685061801510886]\n"
     ]
    }
   ],
   "source": [
    "condtion1=(sorted_df['DIV']==101)\n",
    "condition2=(sorted_df['line']=='syngap control')\n",
    "f6=None\n",
    "f7=None\n",
    "filtered_df = sorted_df[condtion1&condition2]\n",
    "template_list =[]\n",
    "for i in range(len(filtered_df)):\n",
    "    file_name = filtered_df['Filename'].iloc[i]\n",
    "    with open(f\"/home/mmp/disktb/mmpatil/MEA_Analysis/TemplateMatching/TemplatesPickelFile/{file_name}.pkl\",'rb') as f6:\n",
    "        template_array= pickle.load(f6)\n",
    "    template_list.append(template_array)\n",
    "template_array = np.array(template_list)\n",
    "\n",
    "mean_template_wt_101 = np.mean(template_array,axis=0)\n",
    "\n",
    "stacked_bursts_array = []\n",
    "for i in range(len(filtered_df)):\n",
    "    file_name = filtered_df['Filename'].iloc[i]\n",
    "    with open(f\"/home/mmp/disktb/mmpatil/MEA_Analysis/TemplateMatching/StackedBurstPickelFile/{file_name}.pkl\",'rb') as f7:\n",
    "        stacked_bursts_here = pickle.load(f7)\n",
    "        # if stacked_bursts_array is None:\n",
    "        #     stacked_bursts_array  = stacked_bursts_here\n",
    "        # else :\n",
    "        stacked_bursts_array.append(stacked_bursts_here)\n",
    "stacked_arry_control_div101 = np.vstack(stacked_bursts_array)\n",
    "print(stacked_arry_control_div101.shape)\n",
    "pcc_scores_wt_wt_101= [np.corrcoef(mean_template_wt_101,burst)[0,1] for burst in stacked_arry_control_div101 ]\n",
    "print(pcc_scores_wt_wt_101)"
   ]
  },
  {
   "cell_type": "code",
   "execution_count": 238,
   "id": "40c5916c",
   "metadata": {},
   "outputs": [
    {
     "name": "stdout",
     "output_type": "stream",
     "text": [
      "(35, 100)\n",
      "[0.9794510804493394, 0.9094639554706916, 0.9021577147098062, 0.9494372439412682, 0.9460523015888743, 0.9641255789399497, 0.9700149406934263, 0.9890880235866509, 0.9445640390329595, 0.9595627128076151, 0.8938768523192172, 0.9618046878223256, 0.9592151288296358, 0.9520836364367115, 0.9236987681939575, 0.8377800638919278, 0.8899355120096567, 0.8701512041875379, 0.8848921794146082, 0.9700159811889749, 0.8344327736134435, 0.8969319017898827, 0.8690110797272874, 0.9170636544285535, 0.8778662209494761, 0.8164260910306667, 0.9088066706880272, 0.9581786236395015, 0.9192182202282367, 0.9581212512445568, 0.938480681735297, 0.8581196816978467, 0.7704944251592404, 0.8127005109731019, 0.9517283025665748]\n"
     ]
    }
   ],
   "source": [
    "condtion1=(sorted_df['DIV']==101)\n",
    "condition2=(sorted_df['line']=='Syngap')\n",
    "f6=None\n",
    "f7=None\n",
    "filtered_df = sorted_df[condtion1&condition2]\n",
    "template_list =[]\n",
    "for i in range(len(filtered_df)):\n",
    "    file_name = filtered_df['Filename'].iloc[i]\n",
    "    with open(f\"/home/mmp/disktb/mmpatil/MEA_Analysis/TemplateMatching/TemplatesPickelFile/{file_name}.pkl\",'rb') as f6:\n",
    "        template_array= pickle.load(f6)\n",
    "    template_list.append(template_array)\n",
    "template_array = np.array(template_list)\n",
    "\n",
    "mean_template_syngap_101 = np.mean(template_array,axis=0)\n",
    "\n",
    "stacked_bursts_array = []\n",
    "for i in range(len(filtered_df)):\n",
    "    file_name = filtered_df['Filename'].iloc[i]\n",
    "    with open(f\"/home/mmp/disktb/mmpatil/MEA_Analysis/TemplateMatching/StackedBurstPickelFile/{file_name}.pkl\",'rb') as f7:\n",
    "        stacked_bursts_here = pickle.load(f7)\n",
    "        # if stacked_bursts_array is None:\n",
    "        #     stacked_bursts_array  = stacked_bursts_here\n",
    "        # else :\n",
    "        stacked_bursts_array.append(stacked_bursts_here)\n",
    "stacked_arry_syngap_div101 = np.vstack(stacked_bursts_array)\n",
    "print(stacked_arry_syngap_div101.shape)\n",
    "pcc_scores_wt_syngap_101= [np.corrcoef(mean_template_wt_101,burst)[0,1] for burst in stacked_arry_syngap_div101 ]\n",
    "print(pcc_scores_wt_syngap_101)"
   ]
  },
  {
   "cell_type": "code",
   "execution_count": 312,
   "id": "644189ce",
   "metadata": {},
   "outputs": [
    {
     "data": {
      "image/png": "[encoded data removed]",
      "text/plain": [
       "<Figure size 640x480 with 1 Axes>"
      ]
     },
     "metadata": {},
     "output_type": "display_data"
    }
   ],
   "source": [
    "import numpy as np\n",
    "import matplotlib.pyplot as plt\n",
    "import random\n",
    "\n",
    "\n",
    "total_div =1\n",
    "# Convert data lists to NumPy arrays\n",
    "group1_data = np.array(pcc_scores_wt_wt)\n",
    "group2_data = np.array(pcc_scores_wt_syngap)\n",
    "\n",
    "# Calculate means and standard errors of means (SEM)\n",
    "mean1 = np.mean(group1_data)\n",
    "sem1 = np.std(group1_data) / np.sqrt(len(group1_data))\n",
    "mean2 = np.mean(group2_data)\n",
    "sem2 = np.std(group2_data) / np.sqrt(len(group2_data))\n",
    "\n",
    "# Convert data lists to NumPy arrays\n",
    "group3_data = np.array(pcc_scores_wt_wt_101)\n",
    "group4_data = np.array(pcc_scores_wt_syngap_101)\n",
    "\n",
    "# Calculate means and standard errors of means (SEM)\n",
    "mean3 = np.mean(group3_data)\n",
    "sem3 = np.std(group3_data) / np.sqrt(len(group3_data))\n",
    "mean4 = np.mean(group4_data)\n",
    "sem4 = np.std(group4_data) / np.sqrt(len(group4_data))\n",
    "\n",
    "# Create a bar graph with two-color bars and jittered data points along the x-axis\n",
    "bar_width = 0.05  # Width of each bar\n",
    "\n",
    "x_wt = 1\n",
    "x_het = 1.05\n",
    "\n",
    "\n",
    "\n",
    "  # X-axis positions for two groups\n",
    "opacity = 0.7\n",
    "jitter = 0.02  # Amount of jitter along the x-axis\n",
    "\n",
    "\n",
    "\n",
    "# Create bars for Group 1 with two colors\n",
    "plt.bar(x_wt, mean1, bar_width, alpha=opacity, color='red', yerr=sem1, capsize=10,ecolor='black',label='Control')\n",
    "plt.bar(x_het, mean2, bar_width, alpha=opacity, color='blue',  yerr=sem2,capsize=10,ecolor='black',label='Template')\n",
    "\n",
    "# Scatter the data points for both groups along the x-axis\n",
    "plt.scatter(np.repeat(x_wt, len(group1_data)) +np.random.uniform(-jitter,jitter,len(group1_data)), group1_data, marker='o',s=5,color='green')\n",
    "plt.scatter(np.repeat(x_het, len(group2_data))+np.random.uniform(-jitter,jitter,len(group2_data)), group2_data, marker='o',s=5,color='orange')\n",
    "\n",
    "# Create bars for Group 1 with two colors\n",
    "plt.bar(x_wt+0.15, mean3, bar_width, alpha=opacity, color='red', yerr=sem3, capsize=10,ecolor='black')\n",
    "plt.bar(x_het+0.15, mean4, bar_width, alpha=opacity, color='blue',  yerr=sem4,capsize=10,ecolor='black')\n",
    "\n",
    "# Scatter the data points for both groups along the x-axis\n",
    "plt.scatter(np.repeat(x_wt+0.15, len(group3_data)) +np.random.uniform(-jitter,jitter,len(group3_data)), group3_data, marker='o',s=5,color='green')\n",
    "plt.scatter(np.repeat(x_het+0.15, len(group4_data))+np.random.uniform(-jitter,jitter,len(group4_data)), group4_data, marker='o',s=5,color='orange')\n",
    "\n",
    "# Customize the plot\n",
    "\n",
    "plt.ylabel('PCC scores')\n",
    "plt.title('PCC scores of individual bursts from control and Syngap comparison with control template')\n",
    "plt.legend()\n",
    "plt.xticks([1.0225,1.175],['DIV 88','DIV 101'])  # Remove x-axis ticks\n",
    "plt.ylim([0.4,1.25])\n",
    "\n",
    "plt.legend(loc='upper right', bbox_to_anchor=(1.25, 1))\n",
    "# Show the plot\n",
    "\n",
    "plt.savefig(\"/home/mmp/Documents/Images_25sep/templatematching_plot.pdf\",format='pdf' ,bbox_inches='tight')\n"
   ]
  },
  {
   "cell_type": "code",
   "execution_count": 248,
   "id": "796caa81",
   "metadata": {},
   "outputs": [
    {
     "name": "stdout",
     "output_type": "stream",
     "text": [
      "0.9812458371688684 0.0023880379707717845\n",
      "0.8973973837218733 0.007226162225125225\n",
      "0.9829899955079079 0.0018419587697951908\n",
      "0.9127129055710522 0.008988845895214266\n"
     ]
    }
   ],
   "source": [
    "print(mean1, sem1)\n",
    "print(mean2, sem2)\n",
    "print(mean3, sem3)\n",
    "print(mean4, sem4)"
   ]
  },
  {
   "cell_type": "code",
   "execution_count": null,
   "id": "ca4647cb",
   "metadata": {},
   "outputs": [],
   "source": []
  },
  {
   "cell_type": "code",
   "execution_count": 173,
   "id": "ac7bac0c",
   "metadata": {},
   "outputs": [
    {
     "name": "stdout",
     "output_type": "stream",
     "text": [
      "[0.69941292 0.71787787 0.73801282 0.76005849 0.78424088 0.81077764\n",
      " 0.8399014  0.87198312 0.90727596 0.94614171 0.98880557 1.03570965\n",
      " 1.08724229 1.14375796 1.20559919 1.27301037 1.34647163 1.4262943\n",
      " 1.51283146 1.60618048 1.70656476 1.81410361 1.92885198 2.05068443\n",
      " 2.17939909 2.31461016 2.45591482 2.60260793 2.75399152 2.90922245\n",
      " 3.06722178 3.22693323 3.38716141 3.54663064 3.7040201  3.8581259\n",
      " 4.00750229 4.15098246 4.28725801 4.41527284 4.53400193 4.6427649\n",
      " 4.74067609 4.82720429 4.90196994 4.9648166  5.01565174 5.0546618\n",
      " 5.08199609 5.09815855 5.10359407 5.09893293 5.0848241  5.06214477\n",
      " 5.0315601  4.99403066 4.95015615 4.90078589 4.84654629 4.7882929\n",
      " 4.72643962 4.66158272 4.59424452 4.52476604 4.45361764 4.38080259\n",
      " 4.3066891  4.23140436 4.15518229 4.07796551 3.99995753 3.92104806\n",
      " 3.84141542 3.76108272 3.68014054 3.59859106 3.51668624 3.43436773\n",
      " 3.35181237 3.26923246 3.18679355 3.10463553 3.02297079 2.94203478\n",
      " 2.86195419 2.78300614 2.70536054 2.62918269 2.55451319 2.48164274\n",
      " 2.41040101 2.34107643 2.27370308 2.20822677 2.14457168 2.08282724\n",
      " 2.02292143 1.96491523 1.90867415 1.85418046]\n"
     ]
    }
   ],
   "source": [
    "template_list =[]\n",
    "for i in range(len(extracted_templates)):\n",
    "    values_str = extracted_templates.iloc[i].strip('[]').split()\n",
    "    # Convert the string values to floats\n",
    "    values_float = [float(val) for val in values_str]\n",
    "    template_list.append(values_float)\n",
    "\n",
    "template_array = np.array(template_list)\n",
    "\n",
    "mean_template = np.mean(template_array,axis=0)\n",
    "\n",
    "print(mean_template)"
   ]
  },
  {
   "cell_type": "code",
   "execution_count": 174,
   "id": "46905b1b",
   "metadata": {},
   "outputs": [
    {
     "data": {
      "image/png": "[encoded data removed]",
      "text/plain": [
       "<Figure size 200x1000 with 1 Axes>"
      ]
     },
     "metadata": {},
     "output_type": "display_data"
    }
   ],
   "source": [
    "plt.figure(figsize=(2, 10)) \n",
    "plt.plot(mean_template)\n",
    "\n",
    "plt.xlabel('Time')\n",
    "plt.ylabel('Amplitude')\n",
    "plt.title('Stacked Bursts')\n",
    "\n",
    "plt.show()"
   ]
  },
  {
   "cell_type": "code",
   "execution_count": 175,
   "id": "f1323548",
   "metadata": {},
   "outputs": [],
   "source": [
    "extracted_bursts = filtered_df['Stacked Bursts'].str.replace('\\n', '')"
   ]
  },
  {
   "cell_type": "code",
   "execution_count": 177,
   "id": "079067ec",
   "metadata": {},
   "outputs": [
    {
     "data": {
      "text/plain": [
       "'[[0.47613212 0.50067745 0.52616663 ... 1.5886198  1.52691248 1.46659206] [0.59402887 0.61821148 0.64392679 ... 1.74584332 1.68953781 1.63262709] [0.6686465  0.68204741 0.6972058  ... 1.54553606 1.48494743 1.42560207] ... [0.34383065 0.34440903 0.34518788 ... 2.04121864 1.97566019 1.91124932] [0.47795573 0.49329529 0.51026643 ... 1.79958971 1.75752267 1.71785425] [0.33529819 0.33928724 0.34560304 ... 1.67939188 1.62059676 1.56590342]]'"
      ]
     },
     "execution_count": 177,
     "metadata": {},
     "output_type": "execute_result"
    }
   ],
   "source": [
    "extracted_bursts.iloc[0]"
   ]
  },
  {
   "cell_type": "code",
   "execution_count": 178,
   "id": "209b6278",
   "metadata": {},
   "outputs": [
    {
     "data": {
      "text/plain": [
       "['[[0.47613212 0.50067745 0.52616663 ... 1.5886198  1.52691248 1.46659206',\n",
       " ' [0.59402887 0.61821148 0.64392679 ... 1.74584332 1.68953781 1.63262709',\n",
       " ' [0.6686465  0.68204741 0.6972058  ... 1.54553606 1.48494743 1.42560207',\n",
       " ' ... [0.34383065 0.34440903 0.34518788 ... 2.04121864 1.97566019 1.91124932',\n",
       " ' [0.47795573 0.49329529 0.51026643 ... 1.79958971 1.75752267 1.71785425',\n",
       " ' [0.33529819 0.33928724 0.34560304 ... 1.67939188 1.62059676 1.56590342',\n",
       " '',\n",
       " '']"
      ]
     },
     "execution_count": 178,
     "metadata": {},
     "output_type": "execute_result"
    }
   ],
   "source": [
    "extracted_bursts.iloc[0].split(']')\n",
    "\n",
    "    "
   ]
  },
  {
   "cell_type": "code",
   "execution_count": 183,
   "id": "a792a5ad",
   "metadata": {},
   "outputs": [
    {
     "ename": "SyntaxError",
     "evalue": "invalid syntax. Perhaps you forgot a comma? (<unknown>, line 1)",
     "output_type": "error",
     "traceback": [
      "Traceback \u001b[0;36m(most recent call last)\u001b[0m:\n",
      "\u001b[0m  File \u001b[1;32m~/.local/lib/python3.10/site-packages/IPython/core/interactiveshell.py:3508\u001b[0m in \u001b[1;35mrun_code\u001b[0m\n    exec(code_obj, self.user_global_ns, self.user_ns)\u001b[0m\n",
      "\u001b[0m  Cell \u001b[1;32mIn[183], line 11\u001b[0m\n    list_of_lists = ast.literal_eval(input_str)\u001b[0m\n",
      "\u001b[0m  File \u001b[1;32m/usr/lib/python3.10/ast.py:64\u001b[0m in \u001b[1;35mliteral_eval\u001b[0m\n    node_or_string = parse(node_or_string.lstrip(\" \\t\"), mode='eval')\u001b[0m\n",
      "\u001b[0;36m  File \u001b[0;32m/usr/lib/python3.10/ast.py:50\u001b[0;36m in \u001b[0;35mparse\u001b[0;36m\n\u001b[0;31m    return compile(source, filename, mode, flags,\u001b[0;36m\n",
      "\u001b[0;36m  File \u001b[0;32m<unknown>:1\u001b[0;36m\u001b[0m\n\u001b[0;31m    [[0.47613212 0.50067745 0.52616663 1.5886198  1.52691248 1.46659206], [0.59402887 0.61821148 0.64392679 1.74584332 1.68953781 1.63262709], [0.6686465  0.68204741 0.6972058 1.54553606 1.48494743 1.42560207]]\u001b[0m\n\u001b[0m      ^\u001b[0m\n\u001b[0;31mSyntaxError\u001b[0m\u001b[0;31m:\u001b[0m invalid syntax. Perhaps you forgot a comma?\n"
     ]
    }
   ],
   "source": [
    "import ast\n",
    "\n",
    "# Your string containing the list of lists as a string\n",
    "input_str = '[[0.47613212 0.50067745 0.52616663 1.5886198  1.52691248 1.46659206] [0.59402887 0.61821148 0.64392679 1.74584332 1.68953781 1.63262709] [0.6686465  0.68204741 0.6972058 1.54553606 1.48494743 1.42560207]]'\n",
    "\n",
    "# Add commas between the elements within the inner lists\n",
    "input_str = input_str.replace(']', '],')\n",
    "input_str =  input_str[:-3]+']'  # Remove the trailing comma\n",
    "\n",
    "# Use ast.literal_eval to safely evaluate the string as a list of lists\n",
    "list_of_lists = ast.literal_eval(input_str)\n",
    "\n",
    "print(list_of_lists)"
   ]
  },
  {
   "cell_type": "code",
   "execution_count": 146,
   "id": "289c6fc6",
   "metadata": {},
   "outputs": [],
   "source": [
    "import re\n",
    "\n",
    "\n",
    "\n",
    "# Use regular expressions to extract the numeric values\n",
    "numeric_values = re.findall(r'[-+]?\\d*\\.\\d+|\\d+', extracted_bursts.iloc[0])\n",
    "\n",
    "# Convert the extracted numeric values to a list of lists of floats\n",
    "list_of_lists_float = []\n",
    "\n",
    "# Specify the number of columns in each sublist\n",
    "num_columns = 10  # Adjust this number as per your data\n",
    "\n",
    "# Split the numeric values into sublists\n",
    "for i in range(0, len(numeric_values), num_columns):\n",
    "    sublist = [float(val) for val in numeric_values[i:i+num_columns]]\n",
    "    list_of_lists_float.append(sublist)"
   ]
  },
  {
   "cell_type": "code",
   "execution_count": 147,
   "id": "23575033",
   "metadata": {},
   "outputs": [
    {
     "data": {
      "text/plain": [
       "[[0.47613212,\n",
       "  0.50067745,\n",
       "  0.52616663,\n",
       "  1.5886198,\n",
       "  1.52691248,\n",
       "  1.46659206,\n",
       "  0.59402887,\n",
       "  0.61821148,\n",
       "  0.64392679,\n",
       "  1.74584332],\n",
       " [1.68953781,\n",
       "  1.63262709,\n",
       "  0.6686465,\n",
       "  0.68204741,\n",
       "  0.6972058,\n",
       "  1.54553606,\n",
       "  1.48494743,\n",
       "  1.42560207,\n",
       "  0.34383065,\n",
       "  0.34440903],\n",
       " [0.34518788,\n",
       "  2.04121864,\n",
       "  1.97566019,\n",
       "  1.91124932,\n",
       "  0.47795573,\n",
       "  0.49329529,\n",
       "  0.51026643,\n",
       "  1.79958971,\n",
       "  1.75752267,\n",
       "  1.71785425],\n",
       " [0.33529819, 0.33928724, 0.34560304, 1.67939188, 1.62059676, 1.56590342]]"
      ]
     },
     "execution_count": 147,
     "metadata": {},
     "output_type": "execute_result"
    }
   ],
   "source": [
    "list_of_lists_float"
   ]
  },
  {
   "cell_type": "code",
   "execution_count": 140,
   "id": "7c0141c5",
   "metadata": {},
   "outputs": [
    {
     "ename": "SyntaxError",
     "evalue": "'[' was never closed (<string>, line 1)",
     "output_type": "error",
     "traceback": [
      "Traceback \u001b[0;36m(most recent call last)\u001b[0m:\n",
      "\u001b[0m  File \u001b[1;32m~/.local/lib/python3.10/site-packages/IPython/core/interactiveshell.py:3508\u001b[0m in \u001b[1;35mrun_code\u001b[0m\n    exec(code_obj, self.user_global_ns, self.user_ns)\u001b[0m\n",
      "\u001b[0m  Cell \u001b[1;32mIn[140], line 2\u001b[0m\n    list_of_lists_float = [[float(val) for val in eval(inner_list)] for inner_list in extracted_bursts.iloc[0]]\u001b[0m\n",
      "\u001b[0;36m  Cell \u001b[0;32mIn[140], line 2\u001b[0;36m in \u001b[0;35m<listcomp>\u001b[0;36m\n\u001b[0;31m    list_of_lists_float = [[float(val) for val in eval(inner_list)] for inner_list in extracted_bursts.iloc[0]]\u001b[0;36m\n",
      "\u001b[0;36m  File \u001b[0;32m<string>:1\u001b[0;36m\u001b[0m\n\u001b[0;31m    [\u001b[0m\n\u001b[0m    ^\u001b[0m\n\u001b[0;31mSyntaxError\u001b[0m\u001b[0;31m:\u001b[0m '[' was never closed\n"
     ]
    }
   ],
   "source": [
    " #Convert the string format to a list of lists with float values\n",
    "list_of_lists_float = [[float(val) for val in eval(inner_list)] for inner_list in extracted_bursts.iloc[0]]\n",
    "list_of_lists_float"
   ]
  },
  {
   "cell_type": "code",
   "execution_count": null,
   "id": "301fc7db",
   "metadata": {},
   "outputs": [],
   "source": [
    "for i in range(len(extracted_bursts)):\n",
    "    "
   ]
  },
  {
   "cell_type": "code",
   "execution_count": 90,
   "id": "65cc1885",
   "metadata": {},
   "outputs": [],
   "source": [
    "values_str = extracted_templates.iloc[0].strip('[]').split()\n",
    "\n",
    "# Convert the string values to floats\n",
    "values_float = [float(val) for val in values_str]"
   ]
  },
  {
   "cell_type": "code",
   "execution_count": 91,
   "id": "9df81722",
   "metadata": {},
   "outputs": [
    {
     "data": {
      "text/plain": [
       "[1.43187113,\n",
       " 1.5410095,\n",
       " 1.65603168,\n",
       " 1.77628281,\n",
       " 1.90147803,\n",
       " 2.030675,\n",
       " 2.16320597,\n",
       " 2.29826386,\n",
       " 2.43479813,\n",
       " 2.57182331,\n",
       " 2.70823621,\n",
       " 2.84299057,\n",
       " 2.97500275,\n",
       " 3.10308653,\n",
       " 3.22630391,\n",
       " 3.34371084,\n",
       " 3.45435551,\n",
       " 3.55774289,\n",
       " 3.65289322,\n",
       " 3.73971635,\n",
       " 3.81788461,\n",
       " 3.88728868,\n",
       " 3.94780265,\n",
       " 3.99963329,\n",
       " 4.04307855,\n",
       " 4.07852409,\n",
       " 4.10634017,\n",
       " 4.12706138,\n",
       " 4.14090619,\n",
       " 4.14854184,\n",
       " 4.15037762,\n",
       " 4.14679669,\n",
       " 4.1383011,\n",
       " 4.12510592,\n",
       " 4.10767272,\n",
       " 4.08621031,\n",
       " 4.06089186,\n",
       " 4.03210562,\n",
       " 3.99978295,\n",
       " 3.96451294,\n",
       " 3.9263761,\n",
       " 3.88524345,\n",
       " 3.84155062,\n",
       " 3.79522148,\n",
       " 3.74657007,\n",
       " 3.69572734,\n",
       " 3.64281866,\n",
       " 3.58792184,\n",
       " 3.5311957,\n",
       " 3.47267972,\n",
       " 3.41267455,\n",
       " 3.35122442,\n",
       " 3.28864853,\n",
       " 3.22499829,\n",
       " 3.16060781,\n",
       " 3.09553778,\n",
       " 3.03012627,\n",
       " 2.96454005,\n",
       " 2.8989067,\n",
       " 2.83343597]"
      ]
     },
     "execution_count": 91,
     "metadata": {},
     "output_type": "execute_result"
    }
   ],
   "source": [
    "values_float"
   ]
  },
  {
   "cell_type": "code",
   "execution_count": 82,
   "id": "1352bbf9",
   "metadata": {},
   "outputs": [
    {
     "ename": "SyntaxError",
     "evalue": "invalid syntax (<unknown>, line 1)",
     "output_type": "error",
     "traceback": [
      "Traceback \u001b[0;36m(most recent call last)\u001b[0m:\n",
      "\u001b[0m  File \u001b[1;32m~/.local/lib/python3.10/site-packages/IPython/core/interactiveshell.py:3508\u001b[0m in \u001b[1;35mrun_code\u001b[0m\n    exec(code_obj, self.user_global_ns, self.user_ns)\u001b[0m\n",
      "\u001b[0m  Cell \u001b[1;32mIn[82], line 2\u001b[0m\n    val = ast.literal_eval(extracted_templates.iloc[2])\u001b[0m\n",
      "\u001b[0m  File \u001b[1;32m/usr/lib/python3.10/ast.py:64\u001b[0m in \u001b[1;35mliteral_eval\u001b[0m\n    node_or_string = parse(node_or_string.lstrip(\" \\t\"), mode='eval')\u001b[0m\n",
      "\u001b[0;36m  File \u001b[0;32m/usr/lib/python3.10/ast.py:50\u001b[0;36m in \u001b[0;35mparse\u001b[0;36m\n\u001b[0;31m    return compile(source, filename, mode, flags,\u001b[0;36m\n",
      "\u001b[0;36m  File \u001b[0;32m<unknown>:1\u001b[0;36m\u001b[0m\n\u001b[0;31m    [1.61876419,1.7498413,,1.89263849,2.04727845,2.21340651,2.39048866,2.57777742,2.77404981,2.9779668,,3.18778889,3.40152124,3.61697607,3.83195508,4.04429594,4.25137914,4.45166987,4.64280736,4.82287826,4.99059453,5.14481146,5.28453531,5.40942748,5.51919554,5.61377771,5.69364181,5.75927185,5.81153231,5.85088624,5.87825044,5.89471755,5.90083602,5.89773939,5.88594846,5.86653606,5.83985884,5.80685266,5.76791817,5.72334593,5.67384513,5.61971622,5.56117839,5.49887262,5.43281156,5.36355161,5.29128634,5.21623695,5.1385994,,5.05885198,4.9768632,,4.89325942,4.80799864,4.72149895,4.63377461,4.54513634,4.45581691,4.36589087,4.27566507,4.18513279,4.09443171,4.00387051]\u001b[0m\n\u001b[0m                          ^\u001b[0m\n\u001b[0;31mSyntaxError\u001b[0m\u001b[0;31m:\u001b[0m invalid syntax\n"
     ]
    }
   ],
   "source": [
    "import ast\n",
    "val = ast.literal_eval(extracted_templates.iloc[2])\n",
    "val"
   ]
  },
  {
   "cell_type": "code",
   "execution_count": 147,
   "id": "23c02284",
   "metadata": {},
   "outputs": [],
   "source": [
    "import numpy as np\n",
    "from sklearn.cluster import KMeans\n",
    "import matplotlib.pyplot as plt\n",
    "\n",
    "\n",
    "def calculate_burst_features(stacked_bursts, threshold=0.5):\n",
    "\n",
    "    feature_array = np.empty((len(stacked_bursts), 1)) \n",
    "    \n",
    "    for i,burst in enumerate(stacked_bursts):\n",
    "    \n",
    "        # Find the peak amplitude and its index\n",
    "        peak_amplitude = np.max(burst)\n",
    "        peak_index = np.argmax(burst)\n",
    "        # Calculate the half-maximum threshold\n",
    "        half_threshold = threshold * peak_amplitude\n",
    "\n",
    "        # Search for the left boundary where the amplitude first crosses half-maximum\n",
    "        left_boundary = np.where(burst[:peak_index] <= half_threshold)[0]\n",
    "        if len(left_boundary) == 0:\n",
    "            left_boundary_index = 0\n",
    "        else:\n",
    "            left_boundary_index = left_boundary[-1] + 1\n",
    "\n",
    "        # Search for the right boundary where the amplitude crosses half-maximum again\n",
    "        right_boundary = np.where(burst[peak_index:] <= half_threshold)[0]\n",
    "        if len(right_boundary) == 0:\n",
    "            right_boundary_index = len(burst) - 1\n",
    "        else:\n",
    "            right_boundary_index = peak_index + right_boundary[0]\n",
    "\n",
    "        # Calculate the half-width\n",
    "        half_width = right_boundary_index - left_boundary_index + 1\n",
    "\n",
    "        feature_array[i] = [peak_amplitude]\n",
    "    \n",
    "\n",
    "    return feature_array\n",
    "\n",
    "# Example usage:\n",
    "\n",
    "features = calculate_burst_features(stacked_bursts, threshold=0.5)\n",
    "\n",
    "\n",
    "\n",
    "\n",
    "\n",
    "\n",
    "\n",
    "\n",
    "\n"
   ]
  },
  {
   "cell_type": "code",
   "execution_count": 149,
   "id": "e4ac8c77",
   "metadata": {},
   "outputs": [
    {
     "name": "stdout",
     "output_type": "stream",
     "text": [
      "[[2.09146603]\n",
      " [2.20430979]\n",
      " [1.52698149]\n",
      " [7.99709681]\n",
      " [1.85646429]\n",
      " [2.01170515]\n",
      " [8.57873756]\n",
      " [1.97455043]\n",
      " [2.14095958]\n",
      " [8.21110706]\n",
      " [2.33815716]\n",
      " [1.64547857]\n",
      " [1.17002293]\n",
      " [8.39226308]\n",
      " [2.45918274]\n",
      " [2.98220403]\n",
      " [7.99196026]\n",
      " [2.3350869 ]\n",
      " [2.92159329]\n",
      " [2.18016879]\n",
      " [8.17327592]\n",
      " [1.92419769]\n",
      " [2.24982322]\n",
      " [8.29059015]\n",
      " [2.39143244]\n",
      " [8.0031659 ]\n",
      " [2.30488269]\n",
      " [7.77646009]\n",
      " [2.50660601]\n",
      " [1.82339988]\n",
      " [8.06290807]\n",
      " [2.49318646]\n",
      " [2.39193708]\n",
      " [1.73469644]\n",
      " [8.26570144]\n",
      " [2.08858483]\n",
      " [2.33204755]\n",
      " [1.70164105]\n",
      " [8.39512204]\n",
      " [2.54122047]\n",
      " [2.16287063]\n",
      " [2.33011367]\n",
      " [8.40497001]\n",
      " [2.21538825]\n",
      " [2.50255582]\n",
      " [8.14094329]\n",
      " [2.28882358]\n",
      " [2.00728997]\n",
      " [7.79734429]\n",
      " [2.45988713]\n",
      " [1.98199675]\n",
      " [7.80422562]\n",
      " [1.96940821]\n",
      " [2.49203073]\n",
      " [1.77816419]\n",
      " [8.23544201]\n",
      " [2.60653413]\n",
      " [7.8100183 ]\n",
      " [1.96669786]\n",
      " [2.2707724 ]\n",
      " [8.38983581]\n",
      " [2.39037124]\n",
      " [2.39487803]\n",
      " [8.24224209]\n",
      " [2.25670327]\n",
      " [1.69447641]\n",
      " [8.00683764]\n",
      " [2.08873252]\n",
      " [1.85438226]\n",
      " [2.00777935]\n",
      " [8.06812541]\n",
      " [2.5100278 ]\n",
      " [1.88482895]\n",
      " [7.90317307]\n",
      " [2.40451354]\n",
      " [1.87140345]\n",
      " [7.96090446]\n",
      " [1.9148305 ]\n",
      " [2.02968653]\n",
      " [8.22830649]\n",
      " [2.31571767]\n",
      " [1.59884057]\n",
      " [8.1820906 ]\n",
      " [2.25329229]\n",
      " [2.24474315]\n",
      " [8.44738548]\n",
      " [1.92646025]\n",
      " [2.00881342]\n",
      " [7.90847376]\n",
      " [1.7663255 ]\n",
      " [8.205893  ]\n",
      " [2.41842853]\n",
      " [2.11653216]]\n"
     ]
    }
   ],
   "source": [
    "print(features)"
   ]
  },
  {
   "cell_type": "code",
   "execution_count": 150,
   "id": "e631a9f3",
   "metadata": {},
   "outputs": [
    {
     "name": "stderr",
     "output_type": "stream",
     "text": [
      "/home/mmp/.local/lib/python3.10/site-packages/sklearn/cluster/_kmeans.py:870: FutureWarning: The default value of `n_init` will change from 10 to 'auto' in 1.4. Set the value of `n_init` explicitly to suppress the warning\n",
      "  warnings.warn(\n",
      "/home/mmp/.local/lib/python3.10/site-packages/sklearn/cluster/_kmeans.py:870: FutureWarning: The default value of `n_init` will change from 10 to 'auto' in 1.4. Set the value of `n_init` explicitly to suppress the warning\n",
      "  warnings.warn(\n",
      "/home/mmp/.local/lib/python3.10/site-packages/sklearn/cluster/_kmeans.py:870: FutureWarning: The default value of `n_init` will change from 10 to 'auto' in 1.4. Set the value of `n_init` explicitly to suppress the warning\n",
      "  warnings.warn(\n",
      "/home/mmp/.local/lib/python3.10/site-packages/sklearn/cluster/_kmeans.py:870: FutureWarning: The default value of `n_init` will change from 10 to 'auto' in 1.4. Set the value of `n_init` explicitly to suppress the warning\n",
      "  warnings.warn(\n",
      "/home/mmp/.local/lib/python3.10/site-packages/sklearn/cluster/_kmeans.py:870: FutureWarning: The default value of `n_init` will change from 10 to 'auto' in 1.4. Set the value of `n_init` explicitly to suppress the warning\n",
      "  warnings.warn(\n",
      "/home/mmp/.local/lib/python3.10/site-packages/sklearn/cluster/_kmeans.py:870: FutureWarning: The default value of `n_init` will change from 10 to 'auto' in 1.4. Set the value of `n_init` explicitly to suppress the warning\n",
      "  warnings.warn(\n",
      "/home/mmp/.local/lib/python3.10/site-packages/sklearn/cluster/_kmeans.py:870: FutureWarning: The default value of `n_init` will change from 10 to 'auto' in 1.4. Set the value of `n_init` explicitly to suppress the warning\n",
      "  warnings.warn(\n",
      "/home/mmp/.local/lib/python3.10/site-packages/sklearn/cluster/_kmeans.py:870: FutureWarning: The default value of `n_init` will change from 10 to 'auto' in 1.4. Set the value of `n_init` explicitly to suppress the warning\n",
      "  warnings.warn(\n",
      "/home/mmp/.local/lib/python3.10/site-packages/sklearn/cluster/_kmeans.py:870: FutureWarning: The default value of `n_init` will change from 10 to 'auto' in 1.4. Set the value of `n_init` explicitly to suppress the warning\n",
      "  warnings.warn(\n",
      "/home/mmp/.local/lib/python3.10/site-packages/sklearn/cluster/_kmeans.py:870: FutureWarning: The default value of `n_init` will change from 10 to 'auto' in 1.4. Set the value of `n_init` explicitly to suppress the warning\n",
      "  warnings.warn(\n"
     ]
    },
    {
     "data": {
      "image/png": "[encoded data removed]",
      "text/plain": [
       "<Figure size 800x500 with 1 Axes>"
      ]
     },
     "metadata": {},
     "output_type": "display_data"
    }
   ],
   "source": [
    "from sklearn.cluster import KMeans\n",
    "import matplotlib.pyplot as plt\n",
    "\n",
    "# Assuming features is a NumPy array where each row represents a burst with two columns (half-width, peak)\n",
    "\n",
    "# Initialize an empty list to store the WCSS values for different values of K\n",
    "wcss = []\n",
    "\n",
    "# Define a range of values for K (number of clusters)\n",
    "k_values = range(1, 11)  # You can adjust the range as needed\n",
    "\n",
    "# Calculate WCSS for each value of K\n",
    "for k in k_values:\n",
    "    kmeans = KMeans(n_clusters=k)\n",
    "    kmeans.fit(features[:,0].reshape(-1,1))\n",
    "    wcss.append(kmeans.inertia_)\n",
    "# Calculate the change in slope between consecutive WCSS values\n",
    "slope_changes = [abs(wcss[i] - wcss[i - 1] )for i in range(1, len(wcss))]\n",
    "\n",
    "# Find the index with the maximum slope change\n",
    "optimal_k_index = slope_changes.index(max(slope_changes)) + 1  # Adding 1 because of zero-based indexing\n",
    "\n",
    "# Optimal K is the K value at the inflection point with the maximum slope change\n",
    "optimal_k = k_values[optimal_k_index]\n",
    "# Plot the WCSS values to determine the elbow point\n",
    "plt.figure(figsize=(8, 5))\n",
    "plt.plot(k_values, wcss, marker='o', linestyle='-', color='b')\n",
    "plt.xlabel('Number of Clusters (K)')\n",
    "plt.ylabel('Within-Cluster Sum of Squares (WCSS)')\n",
    "plt.title('Elbow Method for Optimal K')\n",
    "plt.grid(True)\n",
    "plt.show()\n"
   ]
  },
  {
   "cell_type": "code",
   "execution_count": 151,
   "metadata": {},
   "outputs": [
    {
     "name": "stdout",
     "output_type": "stream",
     "text": [
      "2\n"
     ]
    }
   ],
   "source": [
    "print(optimal_k)"
   ]
  },
  {
   "cell_type": "code",
   "execution_count": 152,
   "id": "65f95c68",
   "metadata": {},
   "outputs": [
    {
     "name": "stdout",
     "output_type": "stream",
     "text": [
      "[0 0 0 1 0 0 1 0 0 1 0 0 0 1 0 0 1 0 0 0 1 0 0 1 0 1 0 1 0 0 1 0 0 0 1 0 0\n",
      " 0 1 0 0 0 1 0 0 1 0 0 1 0 0 1 0 0 0 1 0 1 0 0 1 0 0 1 0 0 1 0 0 0 1 0 0 1\n",
      " 0 0 1 0 0 1 0 0 1 0 0 1 0 0 1 0 1 0 0]\n"
     ]
    },
    {
     "name": "stderr",
     "output_type": "stream",
     "text": [
      "/home/mmp/.local/lib/python3.10/site-packages/sklearn/cluster/_kmeans.py:870: FutureWarning: The default value of `n_init` will change from 10 to 'auto' in 1.4. Set the value of `n_init` explicitly to suppress the warning\n",
      "  warnings.warn(\n"
     ]
    }
   ],
   "source": [
    "from sklearn.cluster import KMeans\n",
    "import numpy as np\n",
    "\n",
    "# Assuming features is a NumPy array where each row represents a burst with two columns (half-width, peak)\n",
    "# Assuming you have already determined the optimal number of clusters, e.g., optimal_k\n",
    "\n",
    "# Initialize and fit K-Means with the optimal number of clusters\n",
    "kmeans = KMeans(n_clusters=optimal_k)\n",
    "cluster_labels = kmeans.fit_predict(features)\n",
    "print(cluster_labels)\n",
    "# Now, cluster_labels contains the cluster assignments for each burst\n",
    "\n",
    "# Create a dictionary to store features and their indices for each cluster\n",
    "cluster_data = {cluster_id: {'features': [], 'indices': []} for cluster_id in range(optimal_k)}\n",
    "\n",
    "# Assign features and their indices to their respective clusters\n",
    "for i, label in enumerate(cluster_labels):\n",
    "    cluster_data[label]['features'].append(features[i])\n",
    "    cluster_data[label]['indices'].append(i)\n",
    "\n",
    "# Access features and indices for a specific cluster (e.g., cluster 0)\n",
    "cluster_0_features = np.array(cluster_data[0]['features'])\n",
    "cluster_0_indices = np.array(cluster_data[0]['indices'])\n",
    "\n",
    "cluster_1_indices = np.array(cluster_data[1]['indices'])\n"
   ]
  },
  {
   "cell_type": "code",
   "execution_count": 153,
   "id": "0680b04c",
   "metadata": {},
   "outputs": [
    {
     "data": {
      "image/png": "[encoded data removed]",
      "text/plain": [
       "<Figure size 200x1200 with 1 Axes>"
      ]
     },
     "metadata": {},
     "output_type": "display_data"
    }
   ],
   "source": [
    "plt.figure(figsize=(2, 12))  # Adjust the figure size as needed\n",
    "\n",
    "for row in stacked_bursts[cluster_0_indices,:]:\n",
    "    plt.plot(row, c='red')\n",
    "for row in stacked_bursts[cluster_1_indices,:]:\n",
    "    plt.plot(row, c='blue')\n",
    "plt.xlabel('Time')\n",
    "plt.ylabel('Amplitude')\n",
    "plt.title('Stacked Bursts')\n",
    "plt.grid(True)\n",
    "plt.show()\n",
    "    \n",
    "\n",
    "    "
   ]
  },
  {
   "cell_type": "code",
   "execution_count": 129,
   "id": "929cb438",
   "metadata": {},
   "outputs": [
    {
     "data": {
      "image/png": "[encoded data removed]",
      "text/plain": [
       "<Figure size 200x1200 with 1 Axes>"
      ]
     },
     "metadata": {},
     "output_type": "display_data"
    }
   ],
   "source": [
    "template1 = np.mean(stacked_bursts[cluster_0_indices,:],axis =0)\n",
    "template2 = np.mean(stacked_bursts[cluster_1_indices,:], axis =0)\n",
    "plt.figure(figsize=(2, 12))\n",
    "plt.plot(template2,c='blue')\n",
    "plt.plot(template1,c='red')\n",
    "plt.xlabel('Time')\n",
    "plt.ylabel('Amplitude')\n",
    "plt.title('Stacked Bursts')\n",
    "plt.grid(True)\n",
    "plt.show()"
   ]
  },
  {
   "cell_type": "code",
   "execution_count": 96,
   "id": "efba8571",
   "metadata": {},
   "outputs": [
    {
     "name": "stdout",
     "output_type": "stream",
     "text": [
      "(60,)\n"
     ]
    }
   ],
   "source": [
    "print(stacked_bursts[1,:].shape)"
   ]
  },
  {
   "cell_type": "code",
   "execution_count": 70,
   "id": "5d997f9a",
   "metadata": {},
   "outputs": [],
   "source": [
    "template= np.mean(stacked_bursts,axis=0)"
   ]
  },
  {
   "cell_type": "code",
   "execution_count": 71,
   "id": "2a412106",
   "metadata": {},
   "outputs": [
    {
     "data": {
      "text/plain": [
       "(60,)"
      ]
     },
     "execution_count": 71,
     "metadata": {},
     "output_type": "execute_result"
    }
   ],
   "source": [
    "template.shape"
   ]
  },
  {
   "cell_type": "code",
   "execution_count": 94,
   "id": "a129dc7b",
   "metadata": {},
   "outputs": [
    {
     "data": {
      "image/png": "[encoded data removed]",
      "text/plain": [
       "<Figure size 200x1000 with 1 Axes>"
      ]
     },
     "metadata": {},
     "output_type": "display_data"
    }
   ],
   "source": [
    "plt.figure(figsize=(2,10))\n",
    "plt.plot(stacked_bursts[:,1])\n",
    "\n",
    "plt.xlabel('Time')\n",
    "plt.ylabel('kHz')\n",
    "plt.title('Line Plot of Data')\n",
    "plt.show()"
   ]
  },
  {
   "cell_type": "code",
   "execution_count": 46,
   "id": "26515c40",
   "metadata": {},
   "outputs": [
    {
     "name": "stdout",
     "output_type": "stream",
     "text": [
      "[]\n"
     ]
    }
   ],
   "source": [
    "#generating the template, which is the average among the bursts\n",
    "num_burst = len(list_of_burst)\n",
    "point_on_burst = len(list_of_burst[0])\n",
    "sum_of_burst = [0]*point_on_burst\n",
    "for burst in list_of_burst:\n",
    "    for x in range(point_on_burst):\n",
    "        sum_of_burst[x] += burst[x]\n",
    "    \n",
    "template= [total / num_burst for total in sum_of_burst]\n",
    "\n",
    "print(sum_of_burst)"
   ]
  },
  {
   "cell_type": "code",
   "execution_count": 29,
   "id": "2f44c350",
   "metadata": {},
   "outputs": [
    {
     "name": "stdout",
     "output_type": "stream",
     "text": [
      "[]\n"
     ]
    },
    {
     "data": {
      "image/png": "[encoded data removed]",
      "text/plain": [
       "<Figure size 640x480 with 1 Axes>"
      ]
     },
     "metadata": {},
     "output_type": "display_data"
    }
   ],
   "source": [
    "print(template)\n",
    "plt.plot(template)\n",
    "plt.xlabel('Time')\n",
    "plt.ylabel('kHz')\n",
    "plt.title('Line Plot of Data')\n",
    "plt.show()"
   ]
  },
  {
   "cell_type": "code",
   "execution_count": 73,
   "id": "4aab5d72",
   "metadata": {},
   "outputs": [
    {
     "name": "stdout",
     "output_type": "stream",
     "text": [
      "[0.9811687442363042, 0.9924953730364483, 0.9737480481829015, 0.9981821012910462, 0.9935630727118674, 0.9969497053579862, 0.9949437268390571, 0.994657254447506, 0.9716986051532776, 0.98682520771067, 0.9762936564243434, 0.9827806482039423, 0.8215154284193051, 0.9978316117891758, 0.9901113509616984, 0.9931701890604472, 0.9989759298674454, 0.9731227870446661, 0.9924152910510103, 0.9843295627279234, 0.9945491765862221, 0.8898300502598954, 0.9907774071541761, 0.9873253669975185, 0.9476437623404925, 0.9992689177942619, 0.9847434640742546, 0.9936953965701546, 0.9333506139793665, 0.9719770736291936, 0.9933461478967496, 0.9958869044325224, 0.9947124565243898, 0.9938751344765182, 0.9994277775607615, 0.9972175936492907, 0.9960701042068807, 0.9571203420944774, 0.9978035255661907, 0.9982218278764547, 0.971747228219105, 0.9836670955214247, 0.999718059020716, 0.9894144552760892, 0.9863371549654633, 0.9965431792318551, 0.9752449508519412, 0.996064979282056, 0.9978807793212772, 0.9958302651386608, 0.9851333822187925, 0.9982832848832065, 0.9825849080282542, 0.9968644736598102, 0.9690043827927455, 0.9902002702325129, 0.9466554822135266, 0.9984238519275389, 0.9988334305784903, 0.9948285501141769, 0.9889558823958975, 0.9670535423708179, 0.9910431871006226, 0.9968683176750974, 0.9490185734553745, 0.9770878192147122, 0.986834946844162, 0.9660725715579319, 0.9871883572722645, 0.9904644168418771, 0.9998479818740892, 0.976904880117419, 0.6643060074266671, 0.9965561432258738, 0.981151688112913, 0.9894116594583462, 0.9938396791082126, 0.9728611945151773, 0.98025784182155, 0.9969236713127668, 0.9868221495627821, 0.9854529736727459, 0.9987658662441824, 0.9961127842605256, 0.9956467166295793, 0.9993823724368704, 0.9806897983066926, 0.9611162942527501, 0.997460155766973, 0.9742570365541828, 0.9989391976829807, 0.9682812632538953, 0.9933973353883642]\n"
     ]
    },
    {
     "data": {
      "text/plain": [
       "93"
      ]
     },
     "execution_count": 73,
     "metadata": {},
     "output_type": "execute_result"
    }
   ],
   "source": [
    "#find the pearson correlation coefficient between each individual burst and the template\n",
    "pcc=[]\n",
    "for burst in stacked_bursts:\n",
    "    pcc.append(np.corrcoef(burst, template)[0, 1])\n",
    "\n",
    "print(pcc)\n",
    "len(pcc)"
   ]
  },
  {
   "cell_type": "code",
   "execution_count": 74,
   "id": "7bad142f",
   "metadata": {},
   "outputs": [
    {
     "name": "stderr",
     "output_type": "stream",
     "text": [
      "/home/mmp/.local/lib/python3.10/site-packages/sklearn/cluster/_kmeans.py:870: FutureWarning: The default value of `n_init` will change from 10 to 'auto' in 1.4. Set the value of `n_init` explicitly to suppress the warning\n",
      "  warnings.warn(\n",
      "/home/mmp/.local/lib/python3.10/site-packages/sklearn/cluster/_kmeans.py:870: FutureWarning: The default value of `n_init` will change from 10 to 'auto' in 1.4. Set the value of `n_init` explicitly to suppress the warning\n",
      "  warnings.warn(\n",
      "/home/mmp/.local/lib/python3.10/site-packages/sklearn/cluster/_kmeans.py:870: FutureWarning: The default value of `n_init` will change from 10 to 'auto' in 1.4. Set the value of `n_init` explicitly to suppress the warning\n",
      "  warnings.warn(\n",
      "/home/mmp/.local/lib/python3.10/site-packages/sklearn/cluster/_kmeans.py:870: FutureWarning: The default value of `n_init` will change from 10 to 'auto' in 1.4. Set the value of `n_init` explicitly to suppress the warning\n",
      "  warnings.warn(\n",
      "/home/mmp/.local/lib/python3.10/site-packages/sklearn/cluster/_kmeans.py:870: FutureWarning: The default value of `n_init` will change from 10 to 'auto' in 1.4. Set the value of `n_init` explicitly to suppress the warning\n",
      "  warnings.warn(\n"
     ]
    },
    {
     "data": {
      "text/plain": [
       "[<matplotlib.lines.Line2D at 0x7fea1422c6a0>]"
      ]
     },
     "execution_count": 74,
     "metadata": {},
     "output_type": "execute_result"
    },
    {
     "data": {
      "image/png": "[encoded data removed]",
      "text/plain": [
       "<Figure size 640x480 with 1 Axes>"
      ]
     },
     "metadata": {},
     "output_type": "display_data"
    }
   ],
   "source": [
    "import numpy as np\n",
    "from sklearn.cluster import KMeans\n",
    "\n",
    "\n",
    "\n",
    "# Reshape the data to fit the KMeans input format\n",
    "X = np.array(pcc).reshape(-1, 1)\n",
    "distortions =[]\n",
    "for i in range(1,6):\n",
    "    # Create a KMeans instance with 4 clusters\n",
    "    kmeans = KMeans(n_clusters=i)\n",
    "\n",
    "    # Fit the model to the data\n",
    "    kmeans.fit(X)\n",
    "    distortions.append(kmeans.inertia_)\n",
    "\n",
    "plt.plot([1,2,3,4,5],distortions)\n",
    "\n",
    "\n",
    "\n"
   ]
  },
  {
   "cell_type": "code",
   "execution_count": 75,
   "id": "424cc1e9",
   "metadata": {},
   "outputs": [
    {
     "name": "stdout",
     "output_type": "stream",
     "text": [
      "Cluster Labels: [0 0 0 0 0 0 0 0 0 0 0 0 1 0 0 0 0 0 0 0 0 0 0 0 0 0 0 0 0 0 0 0 0 0 0 0 0\n",
      " 0 0 0 0 0 0 0 0 0 0 0 0 0 0 0 0 0 0 0 0 0 0 0 0 0 0 0 0 0 0 0 0 0 0 0 1 0\n",
      " 0 0 0 0 0 0 0 0 0 0 0 0 0 0 0 0 0 0 0]\n",
      "Centroids: [[0.98536299]\n",
      " [0.74291072]]\n"
     ]
    },
    {
     "name": "stderr",
     "output_type": "stream",
     "text": [
      "/home/mmp/.local/lib/python3.10/site-packages/sklearn/cluster/_kmeans.py:870: FutureWarning: The default value of `n_init` will change from 10 to 'auto' in 1.4. Set the value of `n_init` explicitly to suppress the warning\n",
      "  warnings.warn(\n"
     ]
    }
   ],
   "source": [
    "kmeans = KMeans(n_clusters=2)\n",
    "\n",
    "# Fit the model to the data\n",
    "kmeans.fit(X)\n",
    "# Get cluster labels for each data point\n",
    "cluster_labels = kmeans.labels_\n",
    "\n",
    "# Get the centroids of each cluster\n",
    "centroids = kmeans.cluster_centers_\n",
    "\n",
    "print(\"Cluster Labels:\", cluster_labels)\n",
    "print(\"Centroids:\", centroids)"
   ]
  },
  {
   "cell_type": "code",
   "execution_count": 22,
   "id": "2d0444e1",
   "metadata": {},
   "outputs": [
    {
     "name": "stdout",
     "output_type": "stream",
     "text": [
      "0.9924153618242861\n"
     ]
    }
   ],
   "source": [
    "#find the average PCC\n",
    "sum = 0\n",
    "for value in pcc:\n",
    "    sum+=value\n",
    "average_pcc= sum/(len(pcc))\n",
    "\n",
    "print(average_pcc)"
   ]
  },
  {
   "cell_type": "code",
   "execution_count": null,
   "id": "1b1246f9",
   "metadata": {},
   "outputs": [],
   "source": []
  }
 ],
 "metadata": {
  "kernelspec": {
   "display_name": "Python 3 (ipykernel)",
   "language": "python",
   "name": "python3"
  },
  "language_info": {
   "codemirror_mode": {
    "name": "ipython",
    "version": 3
   },
   "file_extension": ".py",
   "mimetype": "text/x-python",
   "name": "python",
   "nbconvert_exporter": "python",
   "pygments_lexer": "ipython3",
   "version": "3.10.12"
  }
 },
 "nbformat": 4,
 "nbformat_minor": 5
}
