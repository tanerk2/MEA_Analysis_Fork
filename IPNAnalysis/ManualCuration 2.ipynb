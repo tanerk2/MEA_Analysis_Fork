{
 "cells": [
  {
   "cell_type": "code",
   "execution_count": null,
   "metadata": {},
   "outputs": [],
   "source": [
    "import mea_analysis_pipeline as msp\n",
    "\n",
    "\n",
    "waveform_folder = '/mnt/disk15tb/mmpatil/MEA_Analysis/IPNAnalysis/sorting/waveformsgood_Folicacid10mg/'\n"
   ]
  },
  {
   "cell_type": "code",
   "execution_count": null,
   "metadata": {},
   "outputs": [],
   "source": [
    "msp.analyse_waveforms_sigui(waveform_folder) "
   ]
  },
  {
   "cell_type": "code",
   "execution_count": 1,
   "metadata": {},
   "outputs": [
    {
     "data": {
      "text/plain": [
       "0"
      ]
     },
     "execution_count": 1,
     "metadata": {},
     "output_type": "execute_result"
    }
   ],
   "source": [
    "import spikeinterface_gui\n",
    "import spikeinterface.full as si\n",
    "waveforms_folder = '/mnt/disk15tb/mmpatil/MEA_Analysis/IPNAnalysis/sorting/waveformsgood_Folicacid10mg/'\n",
    "waveforms = si.load_waveforms(waveforms_folder)\n",
    "    # This creates a Qt app\n",
    "   # waveforms.run_extract_waveforms(**job_kwargs)\n",
    "app = spikeinterface_gui.mkQApp() \n",
    "\n",
    "    # create the mainwindow and show\n",
    "win = spikeinterface_gui.MainWindow(waveforms)\n",
    "win.show()\n",
    "    # run the main Qt6 loop\n",
    "app.exec_()\n"
   ]
  }
 ],
 "metadata": {
  "kernelspec": {
   "display_name": "Python 3",
   "language": "python",
   "name": "python3"
  },
  "language_info": {
   "codemirror_mode": {
    "name": "ipython",
    "version": 3
   },
   "file_extension": ".py",
   "mimetype": "text/x-python",
   "name": "python",
   "nbconvert_exporter": "python",
   "pygments_lexer": "ipython3",
   "version": "3.10.12"
  },
  "orig_nbformat": 4
 },
 "nbformat": 4,
 "nbformat_minor": 2
}
