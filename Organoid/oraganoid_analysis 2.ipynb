{
 "cells": [
  {
   "cell_type": "code",
   "execution_count": 3,
   "metadata": {},
   "outputs": [],
   "source": [
    "import sys\n",
    "sys.path.append('/home/mmpatil/Documents/spikesorting/MEA_Analysis/Python/')\n",
    "import mea_analysis_pipeline as msp"
   ]
  },
  {
   "cell_type": "code",
   "execution_count": 7,
   "metadata": {},
   "outputs": [],
   "source": [
    "filepath = '/mnt/disk15tb/mmpatil/Spikesorting/Data/230327fourblocks/Trace_20230327_16_35_34.raw.h5'"
   ]
  },
  {
   "cell_type": "code",
   "execution_count": 9,
   "metadata": {},
   "outputs": [
    {
     "name": "stdout",
     "output_type": "stream",
     "text": [
      "Sampling frequency: 20000.0\n",
      "Number of channels: 722\n",
      "Number of segments: 1\n",
      "total_recording: 272.91 s\n"
     ]
    }
   ],
   "source": [
    "import spikeinterface.extractors as se\n",
    "recording = se.read_maxwell(filepath)\n",
    "\n",
    "#recording, recname = msp.get_data_maxwell(filepath)\n",
    "\n",
    "fs, num_chan, channel_ids = msp.get_channel_recording_stats(recording)"
   ]
  }
 ],
 "metadata": {
  "kernelspec": {
   "display_name": "Python 3",
   "language": "python",
   "name": "python3"
  },
  "language_info": {
   "codemirror_mode": {
    "name": "ipython",
    "version": 3
   },
   "file_extension": ".py",
   "mimetype": "text/x-python",
   "name": "python",
   "nbconvert_exporter": "python",
   "pygments_lexer": "ipython3",
   "version": "3.10.6"
  },
  "orig_nbformat": 4
 },
 "nbformat": 4,
 "nbformat_minor": 2
}
